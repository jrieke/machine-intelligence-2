{
 "cells": [
  {
   "cell_type": "markdown",
   "metadata": {
    "ExecuteTime": {
     "end_time": "2017-06-19T14:25:25.690578Z",
     "start_time": "2017-06-19T14:25:25.687206"
    }
   },
   "source": [
    "# Machine Intelligence II - Team MensaNord\n",
    "## Sheet 07"
   ]
  },
  {
   "cell_type": "markdown",
   "metadata": {
    "ExecuteTime": {
     "end_time": "2017-06-19T14:25:11.615086Z",
     "start_time": "2017-06-19T14:25:11.609636"
    }
   },
   "source": [
    "- Nikolai Zaki\n",
    "- Alexander Moore\n",
    "- Johannes Rieke\n",
    "- Georg Hoelger\n",
    "- Oliver Atanaszov"
   ]
  },
  {
   "cell_type": "code",
   "execution_count": 131,
   "metadata": {
    "ExecuteTime": {
     "end_time": "2017-06-19T16:14:41.681918Z",
     "start_time": "2017-06-19T16:14:41.674146"
    },
    "collapsed": true,
    "run_control": {
     "frozen": false,
     "read_only": false
    }
   },
   "outputs": [],
   "source": [
    "from __future__ import division, print_function\n",
    "import seaborn as sns\n",
    "import matplotlib.pyplot as plt\n",
    "import numpy as np\n",
    "%matplotlib inline\n",
    "import scipy.io.wavfile\n",
    "import scipy.stats\n",
    "from timeit import default_timer as timer\n"
   ]
  },
  {
   "cell_type": "markdown",
   "metadata": {},
   "source": [
    "### 7.1"
   ]
  },
  {
   "cell_type": "markdown",
   "metadata": {},
   "source": [
    "See the appended pdf."
   ]
  },
  {
   "cell_type": "markdown",
   "metadata": {},
   "source": [
    "### 7.2"
   ]
  },
  {
   "cell_type": "code",
   "execution_count": 54,
   "metadata": {
    "ExecuteTime": {
     "end_time": "2017-06-19T15:31:57.809400Z",
     "start_time": "2017-06-19T15:31:57.796168"
    }
   },
   "outputs": [],
   "source": [
    "def ddf_by_df(inp):\n",
    "    return 1-2.0/(1+np.exp(-inp))\n",
    "\n",
    "def ICA_natural(X, num_iterations = 18000, eta = 0.01, l = 0.9999, norm = False):\n",
    "    W = np.random.random((N, N))\n",
    "    if norm:\n",
    "        np.fill_diagonal(W, 1)\n",
    "        \n",
    "    for t in range(num_iterations):\n",
    "        x = X[:,t%len(X[0,:])]\n",
    "        gradient = np.dot(np.eye(N) + np.dot(ddf_by_df(np.dot(W,x)).reshape(N,1),np.dot(W,x).reshape(1,N)),W)\n",
    "        W += eta*gradient\n",
    "        if norm:\n",
    "            Wd = np.diag(W)[np.newaxis, :]\n",
    "            W /= Wd\n",
    "\n",
    "\n",
    "        eta = eta * l\n",
    "    return W"
   ]
  },
  {
   "cell_type": "code",
   "execution_count": 55,
   "metadata": {
    "ExecuteTime": {
     "end_time": "2017-06-19T15:31:58.450592Z",
     "start_time": "2017-06-19T15:31:58.259049"
    },
    "collapsed": true
   },
   "outputs": [],
   "source": [
    "sound1 = np.loadtxt(\"sound1.dat\")\n",
    "sound2 = np.loadtxt(\"sound2.dat\")\n",
    "sounds = np.array([sound1, sound2])\n",
    "N = len(sounds)\n",
    "A = np.random.random((N, N))\n",
    "xsounds = np.dot(A, sounds)\n",
    "neworder = np.random.permutation(np.arange(18000)) \n",
    "pxsounds = xsounds[:, np.asarray(neworder)]\n",
    "cpxsounds = pxsounds - np.mean(pxsounds,axis = 1)[:,np.newaxis]"
   ]
  },
  {
   "cell_type": "markdown",
   "metadata": {},
   "source": [
    "#### a) with ICA+natural gradient descent"
   ]
  },
  {
   "cell_type": "code",
   "execution_count": 134,
   "metadata": {
    "ExecuteTime": {
     "end_time": "2017-06-19T16:15:08.001146Z",
     "start_time": "2017-06-19T16:15:04.682598"
    }
   },
   "outputs": [
    {
     "name": "stdout",
     "output_type": "stream",
     "text": [
      "time: 0.371484 s\n"
     ]
    }
   ],
   "source": [
    "for i in range(10):\n",
    "    t0 = timer()\n",
    "    W = ICA_natural(cpxsounds, num_iterations=1*len(cpxsounds[0]),eta=0.01, l=0.9999, norm=False)\n",
    "    t = timer()\n",
    "    dt.append((t-t0))\n",
    "print(\"time: %f s\" %np.mean(dt))\n",
    "unmixed = np.dot(W,xsounds)\n"
   ]
  },
  {
   "cell_type": "code",
   "execution_count": null,
   "metadata": {
    "ExecuteTime": {
     "end_time": "2017-06-19T16:13:30.303980Z",
     "start_time": "2017-06-19T16:13:30.299930"
    },
    "collapsed": true
   },
   "outputs": [],
   "source": []
  },
  {
   "cell_type": "code",
   "execution_count": 124,
   "metadata": {
    "ExecuteTime": {
     "end_time": "2017-06-19T16:05:14.663789Z",
     "start_time": "2017-06-19T16:05:14.661001"
    }
   },
   "outputs": [],
   "source": [
    "unmixed_ICA = unmixed[np.argmax(np.dot(W,A), axis=1)]"
   ]
  },
  {
   "cell_type": "code",
   "execution_count": 125,
   "metadata": {
    "ExecuteTime": {
     "end_time": "2017-06-19T16:05:16.050456Z",
     "start_time": "2017-06-19T16:05:16.045584"
    }
   },
   "outputs": [
    {
     "data": {
      "text/plain": [
       "((2, 18000), (2, 2))"
      ]
     },
     "execution_count": 125,
     "metadata": {},
     "output_type": "execute_result"
    }
   ],
   "source": [
    "sounds.shape, unmixed_ICA.shape"
   ]
  },
  {
   "cell_type": "code",
   "execution_count": 111,
   "metadata": {
    "ExecuteTime": {
     "end_time": "2017-06-19T16:00:40.204965Z",
     "start_time": "2017-06-19T16:00:40.201107"
    }
   },
   "outputs": [],
   "source": [
    "unmixed_ICA = MinMaxScaler(unmixed_ICA)\n",
    "sounds_scaled = MinMaxScaler(sounds)\n"
   ]
  },
  {
   "cell_type": "code",
   "execution_count": 63,
   "metadata": {
    "ExecuteTime": {
     "end_time": "2017-06-19T15:33:35.528426Z",
     "start_time": "2017-06-19T15:33:34.540703"
    }
   },
   "outputs": [
    {
     "data": {
      "image/png": "[encoded data removed]",
      "text/plain": [
       "<matplotlib.figure.Figure at 0x119635450>"
      ]
     },
     "metadata": {},
     "output_type": "display_data"
    }
   ],
   "source": [
    "fig, axs = plt.subplots(2,3, sharex=False, sharey=True, figsize = (10,6))\n",
    "for i in range(2):\n",
    "    axs[i, 0].plot(np.linspace(0, 18000, 18000), sounds[i])\n",
    "    axs[i, 1].plot(xsounds[i])\n",
    "    axs[i, 2].plot(unmixed[np.argmax(np.dot(W,A)[:,i])])\n",
    "\n",
    "axs[0, 0].set_title('original')\n",
    "axs[0, 1].set_title('mixed')\n",
    "axs[0, 2].set_title('unmixed')\n",
    "plt.setp(axs, xlabel = 'time', ylabel = 'amplitude', xticks=np.arange(0, 18000+1, 6000))\n",
    "fig.tight_layout()\n",
    "plt.show()"
   ]
  },
  {
   "cell_type": "markdown",
   "metadata": {
    "ExecuteTime": {
     "end_time": "2017-06-19T15:33:56.950034Z",
     "start_time": "2017-06-19T15:33:56.945863"
    }
   },
   "source": [
    "#### b) FastICA"
   ]
  },
  {
   "cell_type": "code",
   "execution_count": 97,
   "metadata": {
    "ExecuteTime": {
     "end_time": "2017-06-19T15:52:10.102397Z",
     "start_time": "2017-06-19T15:52:10.098463"
    }
   },
   "outputs": [],
   "source": [
    "from sklearn.decomposition import FastICA\n",
    "from sklearn.preprocessing import MinMaxScaler\n",
    "from sklearn.metrics import mean_squared_error"
   ]
  },
  {
   "cell_type": "code",
   "execution_count": 135,
   "metadata": {
    "ExecuteTime": {
     "end_time": "2017-06-19T16:15:54.984649Z",
     "start_time": "2017-06-19T16:15:54.926127"
    }
   },
   "outputs": [
    {
     "name": "stdout",
     "output_type": "stream",
     "text": [
      "time: 0.005124 s\n"
     ]
    }
   ],
   "source": [
    "fICA = FastICA(max_iter = len(cpxsounds[0]))\n",
    "dt=[]\n",
    "for i in range(10):\n",
    "    t0 = timer()\n",
    "    unmixed = fICA.fit_transform(cpxsounds.T)\n",
    "    t= timer()\n",
    "    dt.append((t-t0))\n",
    "print(\"time: %f s\" %np.mean(dt))\n",
    "W = fICA.components_"
   ]
  },
  {
   "cell_type": "markdown",
   "metadata": {},
   "source": [
    "### 7.3 "
   ]
  },
  {
   "cell_type": "code",
   "execution_count": 136,
   "metadata": {
    "ExecuteTime": {
     "end_time": "2017-06-19T16:16:44.943072Z",
     "start_time": "2017-06-19T16:16:44.798790"
    }
   },
   "outputs": [
    {
     "name": "stdout",
     "output_type": "stream",
     "text": [
      "07_Zaki_Atanaszov_evaluated.ipynb sheet07_fastica.pdf\r\n",
      "\u001b[34mimgpca\u001b[m\u001b[m                            sound1.dat\r\n",
      "sheet07.ipynb                     sound2.dat\r\n"
     ]
    }
   ],
   "source": [
    "!ls"
   ]
  },
  {
   "cell_type": "code",
   "execution_count": 137,
   "metadata": {
    "ExecuteTime": {
     "end_time": "2017-06-19T16:17:22.734540Z",
     "start_time": "2017-06-19T16:17:22.609371"
    }
   },
   "outputs": [
    {
     "name": "stdout",
     "output_type": "stream",
     "text": [
      "b1.jpg    b7.jpg    d1.jpg    d5.jpg    n11.jpg   n6.jpg    t12.jpg   t6.jpg\r\n",
      "b10.jpg   b8.jpg    d10.jpg   d6.jpg    n12.jpg   n7.jpg    t13.jpg   t7.jpg\r\n",
      "b2.jpg    b9.jpg    d11.jpg   d7.jpg    n13.jpg   n8.jpg    t14.jpg   t8.jpg\r\n",
      "b3.jpg    b9_16.jpg d12.jpg   d8.jpg    n2.jpg    n9.jpg    t2.jpg    t9.jpg\r\n",
      "b4.jpg    b9_2.jpg  d2.jpg    d9.jpg    n3.jpg    t1.jpg    t3.jpg\r\n",
      "b5.jpg    b9_4.jpg  d3.jpg    n1.jpg    n4.jpg    t10.jpg   t4.jpg\r\n",
      "b6.jpg    b9_8.jpg  d4.jpg    n10.jpg   n5.jpg    t11.jpg   t5.jpg\r\n"
     ]
    }
   ],
   "source": [
    "!ls imgpca/"
   ]
  },
  {
   "cell_type": "code",
   "execution_count": 154,
   "metadata": {
    "ExecuteTime": {
     "end_time": "2017-06-19T16:25:41.177485Z",
     "start_time": "2017-06-19T16:25:41.173830"
    },
    "collapsed": true
   },
   "outputs": [],
   "source": [
    "from sklearn.feature_extraction.image import extract_patches_2d\n",
    "import os\n",
    "from scipy.ndimage import imread\n"
   ]
  },
  {
   "cell_type": "code",
   "execution_count": 156,
   "metadata": {
    "ExecuteTime": {
     "end_time": "2017-06-19T16:26:44.400543Z",
     "start_time": "2017-06-19T16:26:44.392922"
    }
   },
   "outputs": [],
   "source": [
    "n, b, t = [], [], []\n",
    "for filename in os.listdir('./imgpca/'):\n",
    "    filepath = os.getcwd()+'/imgpca/'+filename\n",
    "    if filename.startswith('b'):\n",
    "        b.append(filepath)\n",
    "    elif filename.startswith('n'):\n",
    "        n.append(filepath)\n",
    "    elif filename.startswith('t'):\n",
    "        t.append(filepath)"
   ]
  },
  {
   "cell_type": "code",
   "execution_count": 166,
   "metadata": {
    "ExecuteTime": {
     "end_time": "2017-06-19T16:32:49.785546Z",
     "start_time": "2017-06-19T16:32:49.782214"
    },
    "collapsed": true
   },
   "outputs": [],
   "source": [
    "P = 20000\n",
    "N = 144"
   ]
  },
  {
   "cell_type": "code",
   "execution_count": 168,
   "metadata": {
    "ExecuteTime": {
     "end_time": "2017-06-19T16:33:04.534618Z",
     "start_time": "2017-06-19T16:33:03.935089"
    }
   },
   "outputs": [
    {
     "name": "stdout",
     "output_type": "stream",
     "text": [
      "(24549, 12, 12)\n",
      "(24549, 12, 12)\n",
      "(24549, 12, 12)\n",
      "(24549, 12, 12)\n",
      "(24549, 12, 12)\n",
      "(24549, 12, 12)\n",
      "(24549, 12, 12)\n",
      "(24549, 12, 12)\n",
      "(24549, 12, 12)\n",
      "(24549, 12, 12)\n",
      "(24549, 12, 12)\n",
      "(24549, 12, 12)\n",
      "(24549, 12, 12)\n",
      "(33447, 12, 12)\n",
      "(31589, 12, 12)\n",
      "(42249, 12, 12)\n",
      "(31491, 12, 12)\n",
      "(31491, 12, 12)\n",
      "(36283, 12, 12)\n",
      "(38044, 12, 12)\n",
      "(31589, 12, 12)\n",
      "(31491, 12, 12)\n",
      "(33643, 12, 12)\n",
      "(44, 12, 12)\n",
      "(7934, 12, 12)\n",
      "(1755, 12, 12)\n",
      "(336, 12, 12)\n",
      "(43807, 12, 12)\n",
      "(109858, 12, 12)\n",
      "(72855, 12, 12)\n",
      "(44784, 12, 12)\n",
      "(111374, 12, 12)\n",
      "(132232, 12, 12)\n",
      "(88776, 12, 12)\n",
      "(30436, 12, 12)\n",
      "(49245, 12, 12)\n",
      "(36700, 12, 12)\n",
      "(31752, 12, 12)\n",
      "(47360, 12, 12)\n",
      "(46287, 12, 12)\n",
      "(90688, 12, 12)\n"
     ]
    }
   ],
   "source": [
    "for c in [n,b,t]:\n",
    "    for img_path in c:\n",
    "        img = imread(img_path)\n",
    "        pS = int(np.sqrt(N))\n",
    "        patches = extract_patches_2d(img, \n",
    "                           patch_size = (pS, pS), max_patches=0.2)"
   ]
  },
  {
   "cell_type": "code",
   "execution_count": null,
   "metadata": {
    "collapsed": true
   },
   "outputs": [],
   "source": []
  }
 ],
 "metadata": {
  "anaconda-cloud": {},
  "kernelspec": {
   "display_name": "Python [default]",
   "language": "python",
   "name": "python2"
  },
  "language_info": {
   "codemirror_mode": {
    "name": "ipython",
    "version": 2
   },
   "file_extension": ".py",
   "mimetype": "text/x-python",
   "name": "python",
   "nbconvert_exporter": "python",
   "pygments_lexer": "ipython2",
   "version": "2.7.12"
  },
  "toc": {
   "colors": {
    "hover_highlight": "#DAA520",
    "running_highlight": "#FF0000",
    "selected_highlight": "#FFD700"
   },
   "moveMenuLeft": true,
   "nav_menu": {
    "height": "138px",
    "width": "252px"
   },
   "navigate_menu": true,
   "number_sections": false,
   "sideBar": true,
   "threshold": 4,
   "toc_cell": false,
   "toc_section_display": "block",
   "toc_window_display": false,
   "widenNotebook": false
  }
 },
 "nbformat": 4,
 "nbformat_minor": 2
}
