{
 "cells": [
  {
   "cell_type": "markdown",
   "metadata": {
    "collapsed": true
   },
   "source": [
    "# Machine Intelligence II - Team MensaNord\n",
    "## Sheet 06"
   ]
  },
  {
   "cell_type": "markdown",
   "metadata": {},
   "source": [
    "- Nikolai Zaki\n",
    "- Alexander Moore\n",
    "- Johannes Rieke\n",
    "- Georg Hoelger\n",
    "- Oliver Atanaszov"
   ]
  },
  {
   "cell_type": "code",
   "execution_count": 1,
   "metadata": {},
   "outputs": [],
   "source": [
    "from __future__ import division, print_function\n",
    "import seaborn as sns\n",
    "import matplotlib.pyplot as plt\n",
    "import numpy as np\n",
    "%matplotlib inline\n",
    "import scipy.io.wavfile\n",
    "import scipy.stats\n",
    "import numpy as np"
   ]
  },
  {
   "cell_type": "markdown",
   "metadata": {},
   "source": [
    "## Exercise 1\n",
    "### A"
   ]
  },
  {
   "cell_type": "code",
   "execution_count": 187,
   "metadata": {},
   "outputs": [
    {
     "name": "stdout",
     "output_type": "stream",
     "text": [
      "-4.0\n"
     ]
    }
   ],
   "source": [
    "def E_s(W, s):\n",
    "    for col in range(W.shape[0]):\n",
    "        W[col, :] *= s[col]\n",
    "        W[:, col] *= s[col]\n",
    "    return - np.sum(W) / 2\n",
    "\n",
    "# Test\n",
    "A = np.array([[1, 2, 3], [1, 2, 3], [1, 2, 3]])\n",
    "B = np.array([1, 0, 1])\n",
    "print(E_s(A, B))"
   ]
  },
  {
   "cell_type": "code",
   "execution_count": 188,
   "metadata": {},
   "outputs": [
    {
     "name": "stdout",
     "output_type": "stream",
     "text": [
      "59.014769077438736\n2.837116842538002\n[ 1  1 -1  1 -1 -1]\n[[ 0.          0.61103419  0.57568071  0.5739904   0.31838324  0.56268543]\n [ 0.61103419  0.          0.40357531  0.11779677  0.28455015  0.27143081]\n [ 0.57568071  0.40357531  0.          0.49606583  0.71460417  0.51276559]\n [ 0.5739904   0.11779677  0.49606583  0.          0.49661494  0.40062795]\n [ 0.31838324  0.28455015  0.71460417  0.49661494  0.          0.61741384]\n [ 0.56268543  0.27143081  0.51276559  0.40062795  0.61741384  0.        ]]\n"
     ]
    }
   ],
   "source": [
    "# inintialization\n",
    "\n",
    "t_max = 1000\n",
    "M = 1\n",
    "\n",
    "beta = np.random.random() / 50\n",
    "print(1 / beta) # == Temperature\n",
    "\n",
    "tau = np.random.random() + 2\n",
    "print(tau)\n",
    "\n",
    "s = np.random.choice([-1, 1], 6)\n",
    "print(s)\n",
    "\n",
    "W = np.random.random(size=(6, 6))\n",
    "W = (W + W.T)/2\n",
    "for i in range(W.shape[0]):\n",
    "    W[i, i] = 0\n",
    "print(W)"
   ]
  },
  {
   "cell_type": "code",
   "execution_count": 410,
   "metadata": {},
   "outputs": [
    {
     "name": "stdout",
     "output_type": "stream",
     "text": [
      "2.16017204373\nstart\ns optimal [ 1  1  1  1  1 -1]\nE optimal 0.118559821692\nmin for reference 2.16017204373\n"
     ]
    },
    {
     "name": "stderr",
     "output_type": "stream",
     "text": [
      "/home/georg/anaconda3/lib/python3.6/site-packages/ipykernel/__main__.py:13: RuntimeWarning: invalid value encountered in double_scalars\n"
     ]
    }
   ],
   "source": [
    "validation_min = E_s(W, s) # for validation\n",
    "print(validation_min)\n",
    "print(\"start\")\n",
    "\n",
    "for t in range(t_max):\n",
    "    for m in range(M):        \n",
    "        i = np.random.randint(0, 6)\n",
    "        s_local = s\n",
    "        s_local[i] *= -1\n",
    "        E_1 = E_s(W, s)\n",
    "        E_2 = E_s(W, s_local)\n",
    "        E_d = E_2 - E_1\n",
    "        P = 1 / (1 + np.exp(beta*E_d))\n",
    "        if np.random.random() < P:\n",
    "            s = s_local\n",
    "        if E_s(W, s) < validation_min:\n",
    "            validation_min = E_s(W, s)\n",
    "    beta *= tau\n",
    "print(\"s optimal\", s)\n",
    "print(\"E optimal\", E_s(W, s))\n",
    "print(\"min for reference\", validation_min)\n",
    "# ERROR validation_min has to be < E optimal"
   ]
  },
  {
   "cell_type": "code",
   "execution_count": 216,
   "metadata": {},
   "outputs": [],
   "source": [
    ""
   ]
  },
  {
   "cell_type": "code",
   "execution_count": null,
   "metadata": {},
   "outputs": [],
   "source": [
    ""
   ]
  },
  {
   "cell_type": "code",
   "execution_count": null,
   "metadata": {},
   "outputs": [],
   "source": [
    ""
   ]
  }
 ],
 "metadata": {
  "kernelspec": {
   "display_name": "Python 2",
   "language": "python",
   "name": "python2"
  },
  "language_info": {
   "codemirror_mode": {
    "name": "ipython",
    "version": 2.0
   },
   "file_extension": ".py",
   "mimetype": "text/x-python",
   "name": "python",
   "nbconvert_exporter": "python",
   "pygments_lexer": "ipython2",
   "version": "2.7.6"
  }
 },
 "nbformat": 4,
 "nbformat_minor": 0
}