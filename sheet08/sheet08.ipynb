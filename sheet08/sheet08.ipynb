{
 "cells": [
  {
   "cell_type": "markdown",
   "metadata": {
    "collapsed": true
   },
   "source": [
    "# Machine Intelligence II - Team MensaNord\n",
    "## Sheet 06"
   ]
  },
  {
   "cell_type": "markdown",
   "metadata": {},
   "source": [
    "- Nikolai Zaki\n",
    "- Alexander Moore\n",
    "- Johannes Rieke\n",
    "- Georg Hoelger\n",
    "- Oliver Atanaszov"
   ]
  },
  {
   "cell_type": "code",
   "execution_count": 1,
   "metadata": {},
   "outputs": [],
   "source": [
    "from __future__ import division, print_function\n",
    "import seaborn as sns\n",
    "import matplotlib.pyplot as plt\n",
    "import numpy as np\n",
    "%matplotlib inline\n",
    "import scipy.io.wavfile\n",
    "import scipy.stats\n",
    "import numpy as np"
   ]
  },
  {
   "cell_type": "markdown",
   "metadata": {},
   "source": [
    "## Exercise 1\n",
    "### A"
   ]
  },
  {
   "cell_type": "code",
   "execution_count": 39,
   "metadata": {},
   "outputs": [
    {
     "name": "stdout",
     "output_type": "stream",
     "text": [
      "[[1 2 3]\n [1 2 3]\n [1 2 3]]\n-10.5\n\n[[1 2 3]\n [1 2 3]\n [1 2 3]]\n-10.5\n\n"
     ]
    }
   ],
   "source": [
    "def E_s(W, s):\n",
    "    W_local = np.copy(W)\n",
    "    for col in range(W_local.shape[0]):\n",
    "        W_local[col, :] *= s[col]\n",
    "        W_local[:, col] *= s[col]\n",
    "    # print(\"# \", W_local)\n",
    "    # print(\"# s:\", s, \"\\tE:\", - np.sum(W_local) / 2)\n",
    "    return - np.sum(W_local) / 2\n",
    "\n",
    "# Test\n",
    "A = np.array([[1, 2, 3], [1, 2, 3], [1, 2, 3]])\n",
    "B = np.array([1, 0, 2])\n",
    "for i in range(2):\n",
    "    print(A)\n",
    "    print(E_s(A, B))\n",
    "    print()"
   ]
  },
  {
   "cell_type": "code",
   "execution_count": 67,
   "metadata": {},
   "outputs": [
    {
     "name": "stdout",
     "output_type": "stream",
     "text": [
      "159.73055198128083\n2.967608207023197\n[-1  1 -1 -1 -1  1]\n[[ 0.          0.41575661  0.44753002  0.61907623  0.42404272  0.67292749]\n [ 0.41575661  0.          0.60592311  0.18712279  0.58502223  0.41133932]\n [ 0.44753002  0.60592311  0.          0.32025882  0.29969132  0.50733595]\n [ 0.61907623  0.18712279  0.32025882  0.          0.23174447  0.62394721]\n [ 0.42404272  0.58502223  0.29969132  0.23174447  0.          0.64434177]\n [ 0.67292749  0.41133932  0.50733595  0.62394721  0.64434177  0.        ]]\n"
     ]
    }
   ],
   "source": [
    "# inintialization\n",
    "\n",
    "# loop borders\n",
    "t_max = 1000\n",
    "M = 1\n",
    "\n",
    "# Temperature ( beta == noise ) decreasing with factor tau\n",
    "beta = np.random.random() / 50\n",
    "print(1 / beta) # == Temperature\n",
    "\n",
    "tau = np.random.random() + 2\n",
    "print(tau)\n",
    "\n",
    "# configuration s\n",
    "s = np.random.choice([-1, 1], 6)\n",
    "print(s)\n",
    "\n",
    "# weight matrix, symmetrical, diagonal 0\n",
    "W = np.random.random(size=(6, 6))\n",
    "W = (W + W.T)/2\n",
    "for i in range(W.shape[0]):\n",
    "    W[i, i] = 0\n",
    "print(W)"
   ]
  },
  {
   "cell_type": "code",
   "execution_count": 70,
   "metadata": {},
   "outputs": [
    {
     "name": "stdout",
     "output_type": "stream",
     "text": [
      "start min -6.9960600629\ns optimal [-1 -1 -1 -1 -1 -1]\nE optimal -6.9960600629\nmin for reference -6.9960600629\n"
     ]
    }
   ],
   "source": [
    "validation_min = E_s(W, s) # for validation\n",
    "print(\"start min\", validation_min)\n",
    "\n",
    "for t in range(t_max):\n",
    "    for m in range(M):        \n",
    "        i = np.random.randint(0, 6)\n",
    "        s_local = np.copy(s)\n",
    "        s_local[i] *= -1\n",
    "        E_1 = E_s(W, s)\n",
    "        E_2 = E_s(W, s_local)\n",
    "        E_d = E_2 - E_1\n",
    "        P = 1 / (1 + np.exp(beta*E_d))\n",
    "        # print(\"\\nt:\", t, \" i:\", i, \"\\n s1:\", s, \"\\tE1:\", E_1, \"\\n s2:\", s_local, \"\\tE2:\", E_2)\n",
    "        if np.random.random() < P:\n",
    "            s = np.copy(s_local)\n",
    "            # print(\"new s\")\n",
    "        if E_s(W, s) < validation_min:\n",
    "            validation_min = E_s(W, s)\n",
    "            # print(\"new min\")\n",
    "    beta *= tau\n",
    "print(\"s optimal\", s)\n",
    "print(\"E optimal\", E_s(W, s))\n",
    "print(\"min for reference\", validation_min)"
   ]
  },
  {
   "cell_type": "code",
   "execution_count": 216,
   "metadata": {},
   "outputs": [],
   "source": [
    ""
   ]
  },
  {
   "cell_type": "code",
   "execution_count": null,
   "metadata": {},
   "outputs": [],
   "source": [
    ""
   ]
  },
  {
   "cell_type": "code",
   "execution_count": null,
   "metadata": {},
   "outputs": [],
   "source": [
    ""
   ]
  }
 ],
 "metadata": {
  "kernelspec": {
   "display_name": "Python 2",
   "language": "python",
   "name": "python2"
  },
  "language_info": {
   "codemirror_mode": {
    "name": "ipython",
    "version": 2.0
   },
   "file_extension": ".py",
   "mimetype": "text/x-python",
   "name": "python",
   "nbconvert_exporter": "python",
   "pygments_lexer": "ipython2",
   "version": "2.7.6"
  }
 },
 "nbformat": 4,
 "nbformat_minor": 0
}