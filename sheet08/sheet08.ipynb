{
 "cells": [
  {
   "cell_type": "markdown",
   "metadata": {
    "collapsed": true
   },
   "source": [
    "# Machine Intelligence II - Team MensaNord\n",
    "## Sheet 06"
   ]
  },
  {
   "cell_type": "markdown",
   "metadata": {},
   "source": [
    "- Nikolai Zaki\n",
    "- Alexander Moore\n",
    "- Johannes Rieke\n",
    "- Georg Hoelger\n",
    "- Oliver Atanaszov"
   ]
  },
  {
   "cell_type": "code",
   "execution_count": 1,
   "metadata": {},
   "outputs": [],
   "source": [
    "from __future__ import division, print_function\n",
    "import seaborn as sns\n",
    "import matplotlib.pyplot as plt\n",
    "%matplotlib inline\n",
    "import scipy.stats\n",
    "import numpy as np"
   ]
  },
  {
   "cell_type": "markdown",
   "metadata": {},
   "source": [
    "## Exercise 1"
   ]
  },
  {
   "cell_type": "code",
   "execution_count": 39,
   "metadata": {},
   "outputs": [
    {
     "name": "stdout",
     "output_type": "stream",
     "text": [
      "[[1 2 3]\n [1 2 3]\n [1 2 3]]\n-10.5\n\n[[1 2 3]\n [1 2 3]\n [1 2 3]]\n-10.5\n\n"
     ]
    }
   ],
   "source": [
    "def E_s(W, s):\n",
    "    W_local = np.copy(W)\n",
    "    for col in range(W_local.shape[0]):\n",
    "        W_local[col, :] *= s[col]\n",
    "        W_local[:, col] *= s[col]\n",
    "    # print(\"# \", W_local)\n",
    "    # print(\"# s:\", s, \"\\tE:\", - np.sum(W_local) / 2)\n",
    "    return - np.sum(W_local) / 2\n",
    "\n",
    "# Test\n",
    "A = np.array([[1, 2, 3], [1, 2, 3], [1, 2, 3]])\n",
    "B = np.array([1, 0, 2])\n",
    "for i in range(2):\n",
    "    print(A)\n",
    "    print(E_s(A, B))\n",
    "    print()"
   ]
  },
  {
   "cell_type": "code",
   "execution_count": 198,
   "metadata": {},
   "outputs": [
    {
     "name": "stdout",
     "output_type": "stream",
     "text": [
      "beta:  0.007080269862410016\nTemp:  141.2375544199406\ntau:  1.064168355840528\n\ns:  [-1  1 -1  1  1 -1]\nW:  [[ 0.          0.81676882  0.57245576  0.41751618  0.42912442  0.60217862]\n [ 0.81676882  0.          0.0668032   0.57865984  0.43641763  0.46765814]\n [ 0.57245576  0.0668032   0.          0.43301392  0.63966727  0.3673408 ]\n [ 0.41751618  0.57865984  0.43301392  0.          0.30443062  0.23181142]\n [ 0.42912442  0.43641763  0.63966727  0.30443062  0.          0.34484553]\n [ 0.60217862  0.46765814  0.3673408   0.23181142  0.34484553  0.        ]]\n\nvalidation min 0.985725633565\nnew min\nnew min\nnew min\nnew min\nnew min\nnew min\nvalidation min -6.70869217209\n\nresult: \ts: [1 1 1 1 1 1] \tE: -6.70869217209\n"
     ]
    },
    {
     "data": {
      "image/png": "[encoded data removed]",
      "text/plain": [
       "<matplotlib.figure.Figure at 0x7fd20aa594a8>"
      ]
     },
     "metadata": {},
     "output_type": "display_data"
    },
    {
     "data": {
      "image/png": "[encoded data removed]",
      "text/plain": [
       "<matplotlib.figure.Figure at 0x7fd20ad232b0>"
      ]
     },
     "metadata": {},
     "output_type": "display_data"
    }
   ],
   "source": [
    "# INITIALIZATION\n",
    "\n",
    "# loop borders\n",
    "t_max = 150\n",
    "M = 1\n",
    "\n",
    "# Temperature ( beta == noise ) decreasing with factor tau\n",
    "beta = np.random.random() / 50\n",
    "beta = 0.007080269862410016\n",
    "print(\"beta: \", beta)\n",
    "print(\"Temp: \", 1 / beta) # == Temperature\n",
    "\n",
    "tau = np.random.random() / 10 + 1\n",
    "tau = 1.064168355840528\n",
    "print(\"tau: \", tau)\n",
    "\n",
    "# configuration s\n",
    "s = np.random.choice([-1, 1], 6)\n",
    "print(\"\\ns: \", s)\n",
    "\n",
    "# weight matrix, symmetrical, diagonal 0\n",
    "W = np.random.random(size=(6, 6))\n",
    "W = (W + W.T)/2\n",
    "for i in range(W.shape[0]):\n",
    "    W[i, i] = 0\n",
    "print(\"W: \", W)\n",
    "\n",
    "# minimum for validation ( E >= validation_min @ any point)\n",
    "validation_min = E_s(W, s)\n",
    "print(\"\\nvalidation min\", validation_min)\n",
    "\n",
    "# variables for plotting\n",
    "T_plot = [0.0 for i in range(t_max * M)]\n",
    "E_plot = [0.0 for i in range(t_max * M)]\n",
    "\n",
    "\n",
    "# ALGORITHM\n",
    "\n",
    "for t in range(t_max):\n",
    "    for m in range(M):        \n",
    "        i = np.random.randint(0, 6)\n",
    "        s_local = np.copy(s)\n",
    "        s_local[i] *= -1\n",
    "        E_1 = E_s(W, s)\n",
    "        E_2 = E_s(W, s_local)\n",
    "        E_d = E_2 - E_1\n",
    "        P = 1 / (1 + np.exp(beta*E_d))\n",
    "        # print(\"\\nt:\", t, \" i:\", i, \"\\n s1:\", s, \"\\tE1:\", E_1, \"\\n s2:\", s_local, \"\\tE2:\", E_2)\n",
    "        if np.random.random() < P:\n",
    "            s = np.copy(s_local)\n",
    "            # print(\"new s\")\n",
    "        if E_s(W, s) < validation_min:\n",
    "            validation_min = E_s(W, s)\n",
    "            print(\"new min\")\n",
    "        T_plot[M*t+m] = 1 / beta\n",
    "        E_plot[M*t+m] = E_s(W, s)\n",
    "    beta *= tau\n",
    "    \n",
    "# RESULTS\n",
    "\n",
    "print(\"validation min\", validation_min)\n",
    "print(\"\\nresult: \\ts:\", s, \"\\tE:\", E_s(W, s))\n",
    "# print(\"E_plot: \", E_plot)\n",
    "# print(\"T_plot: \", T_plot)\n",
    "# print(W)\n",
    "\n",
    "plt.figure(figsize=(10, 5))\n",
    "plt.scatter(range(t_max * M), T_plot)\n",
    "plt.title('Temperature')\n",
    "plt.grid()\n",
    "plt.show()\n",
    "\n",
    "plt.figure(figsize=(10, 5))\n",
    "plt.scatter(range(t_max * M), E_plot)\n",
    "plt.title('Energy')\n",
    "plt.grid()\n",
    "plt.show()"
   ]
  },
  {
   "cell_type": "code",
   "execution_count": 203,
   "metadata": {},
   "outputs": [
    {
     "name": "stdout",
     "output_type": "stream",
     "text": [
      "beta:  0.007080269862410016\nTemp:  141.2375544199406\n"
     ]
    },
    {
     "name": "stdout",
     "output_type": "stream",
     "text": [
      "tau:  1.064168355840528\n\ns:  [ 1 -1  1  1 -1 -1]\nW:  [[ 0.          0.58456298  0.60420186  0.46084055  0.49607722  0.58934483]\n [ 0.58456298  0.          0.65904363  0.7363073   0.10102485  0.83715855]\n [ 0.60420186  0.65904363  0.          0.97872757  0.50593865  0.58889672]\n [ 0.46084055  0.7363073   0.97872757  0.          0.5335326   0.25837833]\n [ 0.49607722  0.10102485  0.50593865  0.5335326   0.          0.28104832]\n [ 0.58934483  0.83715855  0.58889672  0.25837833  0.28104832  0.        ]]\n\nvalidation min 1.6890805582\nnew min\nnew min\nnew min\nnew min\nvalidation min -8.2150839639\n\nresult: \ts: [1 1 1 1 1 1] \tE: -8.2150839639\n"
     ]
    },
    {
     "data": {
      "image/png": "[encoded data removed]",
      "text/plain": [
       "<matplotlib.figure.Figure at 0x7fd20a96c470>"
      ]
     },
     "metadata": {},
     "output_type": "display_data"
    },
    {
     "data": {
      "image/png": "[encoded data removed]",
      "text/plain": [
       "<matplotlib.figure.Figure at 0x7fd20a8e2d68>"
      ]
     },
     "metadata": {},
     "output_type": "display_data"
    }
   ],
   "source": [
    "# EXACTLY THE SAME BUT WITH M=500 (CAUTION MANY CALCULATIONS)\n",
    "\n",
    "# loop borders\n",
    "t_max = 150\n",
    "M = 500\n",
    "\n",
    "# Temperature ( beta == noise ) decreasing with factor tau\n",
    "beta = np.random.random() / 50\n",
    "beta = 0.007080269862410016\n",
    "print(\"beta: \", beta)\n",
    "print(\"Temp: \", 1 / beta) # == Temperature\n",
    "\n",
    "tau = np.random.random() / 10 + 1\n",
    "tau = 1.064168355840528\n",
    "print(\"tau: \", tau)\n",
    "\n",
    "# configuration s\n",
    "s = np.random.choice([-1, 1], 6)\n",
    "print(\"\\ns: \", s)\n",
    "\n",
    "# weight matrix, symmetrical, diagonal 0\n",
    "W = np.random.random(size=(6, 6))\n",
    "W = (W + W.T)/2\n",
    "for i in range(W.shape[0]):\n",
    "    W[i, i] = 0\n",
    "print(\"W: \", W)\n",
    "\n",
    "# minimum for validation ( E >= validation_min @ any point)\n",
    "validation_min = E_s(W, s)\n",
    "print(\"\\nvalidation min\", validation_min)\n",
    "\n",
    "# variables for plotting\n",
    "T_plot = [0.0 for i in range(t_max * M)]\n",
    "E_plot = [0.0 for i in range(t_max * M)]\n",
    "\n",
    "\n",
    "# ALGORITHM\n",
    "\n",
    "for t in range(t_max):\n",
    "    for m in range(M):        \n",
    "        i = np.random.randint(0, 6)\n",
    "        s_local = np.copy(s)\n",
    "        s_local[i] *= -1\n",
    "        E_1 = E_s(W, s)\n",
    "        E_2 = E_s(W, s_local)\n",
    "        E_d = E_2 - E_1\n",
    "        P = 1 / (1 + np.exp(beta*E_d))\n",
    "        # print(\"\\nt:\", t, \" i:\", i, \"\\n s1:\", s, \"\\tE1:\", E_1, \"\\n s2:\", s_local, \"\\tE2:\", E_2)\n",
    "        if np.random.random() < P:\n",
    "            s = np.copy(s_local)\n",
    "            # print(\"new s\")\n",
    "        if E_s(W, s) < validation_min:\n",
    "            validation_min = E_s(W, s)\n",
    "            print(\"new min\")\n",
    "        T_plot[M*t+m] = 1 / beta\n",
    "        E_plot[M*t+m] = E_s(W, s)\n",
    "    beta *= tau\n",
    "    \n",
    "# RESULTS\n",
    "\n",
    "print(\"validation min\", validation_min)\n",
    "print(\"\\nresult: \\ts:\", s, \"\\tE:\", E_s(W, s))\n",
    "# print(\"E_plot: \", E_plot)\n",
    "# print(\"T_plot: \", T_plot)\n",
    "# print(W)\n",
    "\n",
    "plt.figure(figsize=(10, 5))\n",
    "plt.scatter(range(t_max * M), T_plot)\n",
    "plt.title('Temperature')\n",
    "plt.grid()\n",
    "plt.show()\n",
    "\n",
    "plt.figure(figsize=(10, 5))\n",
    "plt.scatter(range(t_max * M), E_plot)\n",
    "plt.title('Energy')\n",
    "plt.grid()\n",
    "plt.show()"
   ]
  },
  {
   "cell_type": "code",
   "execution_count": 195,
   "metadata": {},
   "outputs": [
    {
     "name": "stdout",
     "output_type": "stream",
     "text": [
      "[0, 0, 0, 0, 0, 0]\n[0, 0, 0, 0, 0, 1]\n[0, 0, 0, 0, 1, 0]\n[0, 0, 0, 0, 1, 1]\n[0, 0, 0, 1, 0, 0]\n[0, 0, 0, 1, 0, 1]\n[0, 0, 0, 1, 1, 0]\n[0, 0, 0, 1, 1, 1]\n[0, 0, 1, 0, 0, 0]\n[0, 0, 1, 0, 0, 1]\n[0, 0, 1, 0, 1, 0]\n[0, 0, 1, 0, 1, 1]\n[0, 0, 1, 1, 0, 0]\n[0, 0, 1, 1, 0, 1]\n[0, 0, 1, 1, 1, 0]\n[0, 0, 1, 1, 1, 1]\n[0, 1, 0, 0, 0, 0]\n[0, 1, 0, 0, 0, 1]\n[0, 1, 0, 0, 1, 0]\n[0, 1, 0, 0, 1, 1]\n[0, 1, 0, 1, 0, 0]\n[0, 1, 0, 1, 0, 1]\n[0, 1, 0, 1, 1, 0]\n[0, 1, 0, 1, 1, 1]\n[0, 1, 1, 0, 0, 0]\n[0, 1, 1, 0, 0, 1]\n[0, 1, 1, 0, 1, 0]\n[0, 1, 1, 0, 1, 1]\n[0, 1, 1, 1, 0, 0]\n[0, 1, 1, 1, 0, 1]\n[0, 1, 1, 1, 1, 0]\n[0, 1, 1, 1, 1, 1]\n[1, 0, 0, 0, 0, 0]\n[1, 0, 0, 0, 0, 1]\n[1, 0, 0, 0, 1, 0]\n[1, 0, 0, 0, 1, 1]\n[1, 0, 0, 1, 0, 0]\n[1, 0, 0, 1, 0, 1]\n[1, 0, 0, 1, 1, 0]\n[1, 0, 0, 1, 1, 1]\n[1, 0, 1, 0, 0, 0]\n[1, 0, 1, 0, 0, 1]\n[1, 0, 1, 0, 1, 0]\n[1, 0, 1, 0, 1, 1]\n[1, 0, 1, 1, 0, 0]\n[1, 0, 1, 1, 0, 1]\n[1, 0, 1, 1, 1, 0]\n[1, 0, 1, 1, 1, 1]\n[1, 1, 0, 0, 0, 0]\n[1, 1, 0, 0, 0, 1]\n[1, 1, 0, 0, 1, 0]\n[1, 1, 0, 0, 1, 1]\n[1, 1, 0, 1, 0, 0]\n[1, 1, 0, 1, 0, 1]\n[1, 1, 0, 1, 1, 0]\n[1, 1, 0, 1, 1, 1]\n[1, 1, 1, 0, 0, 0]\n[1, 1, 1, 0, 0, 1]\n[1, 1, 1, 0, 1, 0]\n[1, 1, 1, 0, 1, 1]\n[1, 1, 1, 1, 0, 0]\n[1, 1, 1, 1, 0, 1]\n[1, 1, 1, 1, 1, 0]\n[1, 1, 1, 1, 1, 1]\n"
     ]
    }
   ],
   "source": [
    "for si in range(2**6):\n",
    "    array = [int(x) for x in list('{0:06b}'.format(si))]\n",
    "    print(array)"
   ]
  },
  {
   "cell_type": "code",
   "execution_count": null,
   "metadata": {},
   "outputs": [],
   "source": [
    ""
   ]
  }
 ],
 "metadata": {
  "kernelspec": {
   "display_name": "Python 2",
   "language": "python",
   "name": "python2"
  },
  "language_info": {
   "codemirror_mode": {
    "name": "ipython",
    "version": 2.0
   },
   "file_extension": ".py",
   "mimetype": "text/x-python",
   "name": "python",
   "nbconvert_exporter": "python",
   "pygments_lexer": "ipython2",
   "version": "2.7.6"
  }
 },
 "nbformat": 4,
 "nbformat_minor": 0
}