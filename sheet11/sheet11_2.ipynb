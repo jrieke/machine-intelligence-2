{
 "cells": [
  {
   "cell_type": "markdown",
   "metadata": {
    "collapsed": true,
    "run_control": {
     "frozen": false,
     "read_only": false
    }
   },
   "source": [
    "# Machine Intelligence II - Team MensaNord\n",
    "## Sheet 11"
   ]
  },
  {
   "cell_type": "markdown",
   "metadata": {
    "run_control": {
     "frozen": false,
     "read_only": false
    }
   },
   "source": [
    "- Nikolai Zaki\n",
    "- Alexander Moore\n",
    "- Johannes Rieke\n",
    "- Georg Hoelger\n",
    "- Oliver Atanaszov"
   ]
  },
  {
   "cell_type": "code",
   "execution_count": 156,
   "metadata": {
    "ExecuteTime": {
     "end_time": "2017-07-16T17:37:15.468700Z",
     "start_time": "2017-07-16T17:37:15.397286"
    },
    "collapsed": true,
    "run_control": {
     "frozen": false,
     "read_only": false
    }
   },
   "outputs": [],
   "source": [
    "%reset -f\n",
    "from __future__ import division, print_function\n",
    "import matplotlib.pyplot as plt\n",
    "%matplotlib inline\n",
    "import numpy as np\n",
    "from scipy.stats import multivariate_normal\n",
    "import seaborn as sns\n",
    "from sklearn.cluster import KMeans\n"
   ]
  },
  {
   "cell_type": "markdown",
   "metadata": {},
   "source": [
    "### Exercise 2\n"
   ]
  },
  {
   "cell_type": "markdown",
   "metadata": {},
   "source": [
    "#### 1.1"
   ]
  },
  {
   "cell_type": "code",
   "execution_count": 157,
   "metadata": {
    "ExecuteTime": {
     "end_time": "2017-07-16T17:37:16.176661Z",
     "start_time": "2017-07-16T17:37:16.171902"
    },
    "collapsed": true
   },
   "outputs": [],
   "source": [
    "w1, w2 = [2,2], [1,1]\n",
    "sigma1, sigma2 = 0.7, 0.2\n",
    "N = 100\n",
    "P1, P2 = 2/3, 1/3\n",
    "theta = 0.001"
   ]
  },
  {
   "cell_type": "code",
   "execution_count": 158,
   "metadata": {
    "ExecuteTime": {
     "end_time": "2017-07-16T17:37:16.544902Z",
     "start_time": "2017-07-16T17:37:16.523017"
    }
   },
   "outputs": [],
   "source": [
    "X, m  = np.zeros((N, 2)), np.zeros((N, 2))\n",
    "for n in range(N):\n",
    "    if np.random.rand() < P1:\n",
    "        X[n] = np.random.multivariate_normal(w1, np.eye(len(w1)) * sigma1**2)\n",
    "        m[n] = [1,0]\n",
    "    else:\n",
    "        X[n] = np.random.multivariate_normal(w2, np.eye(len(w2)) * sigma2**2)\n",
    "        m[n] = [0,1]"
   ]
  },
  {
   "cell_type": "code",
   "execution_count": 161,
   "metadata": {
    "ExecuteTime": {
     "end_time": "2017-07-16T17:40:52.524288Z",
     "start_time": "2017-07-16T17:40:52.516339"
    },
    "collapsed": true
   },
   "outputs": [],
   "source": [
    "def create_data(sigma1, sigma2 = 0.2):\n",
    "    X, m  = np.zeros((N, 2)), np.zeros((N, 2))\n",
    "    for n in range(N):\n",
    "        if np.random.rand() < P1:\n",
    "            X[n] = np.random.multivariate_normal(w1, np.eye(len(w1)) * sigma1**2)\n",
    "            m[n] = [1,0]\n",
    "        else:\n",
    "            X[n] = np.random.multivariate_normal(w2, np.eye(len(w2)) * sigma2**2)\n",
    "            m[n] = [0,1]\n",
    "    return X, m"
   ]
  },
  {
   "cell_type": "code",
   "execution_count": 162,
   "metadata": {
    "ExecuteTime": {
     "end_time": "2017-07-16T17:41:16.887087Z",
     "start_time": "2017-07-16T17:41:16.867509"
    },
    "collapsed": true
   },
   "outputs": [],
   "source": [
    "X, m = create_data(0.7)"
   ]
  },
  {
   "cell_type": "markdown",
   "metadata": {
    "ExecuteTime": {
     "end_time": "2017-07-16T17:38:54.278702Z",
     "start_time": "2017-07-16T17:38:54.273506"
    }
   },
   "source": [
    "#### 1.2 EM algorithm"
   ]
  },
  {
   "cell_type": "code",
   "execution_count": 174,
   "metadata": {
    "ExecuteTime": {
     "end_time": "2017-07-16T17:45:33.276149Z",
     "start_time": "2017-07-16T17:45:33.271789"
    }
   },
   "outputs": [
    {
     "name": "stdout",
     "output_type": "stream",
     "text": [
      "Automatic pdb calling has been turned OFF\n"
     ]
    }
   ],
   "source": [
    "%pdb"
   ]
  },
  {
   "cell_type": "code",
   "execution_count": 175,
   "metadata": {
    "ExecuteTime": {
     "end_time": "2017-07-16T17:45:38.674152Z",
     "start_time": "2017-07-16T17:45:35.303054"
    },
    "collapsed": true
   },
   "outputs": [
    {
     "name": "stdout",
     "output_type": "stream",
     "text": [
      "2.34487775442\n",
      "3.79307952526\n",
      "4.6655558441\n",
      "1.91080489046\n",
      "1.793643621\n",
      "2.42440081888\n",
      "5.01150308161\n",
      "2.39116415737\n",
      "1.63537400226\n",
      "2.1125963602\n",
      "4.27916081521\n",
      "1.14020222869\n",
      "1.74153372012\n",
      "3.40738339822\n",
      "2.82388316859\n",
      "1.46049152631\n",
      "4.92818048196\n",
      "2.36770495708\n",
      "1.46533691953\n",
      "1.6651972433\n",
      "3.70768874691\n",
      "1.60572878962\n",
      "2.78551794591\n",
      "5.0165505563\n",
      "2.21034035778\n",
      "1.69962892589\n",
      "2.7654476655\n",
      "5.01787869501\n",
      "2.2125801137\n",
      "1.70001302409\n",
      "2.7663889666\n",
      "5.01782089028\n",
      "2.21246488169\n",
      "1.69999519745\n",
      "2.76633938969\n",
      "5.01782402189\n",
      "2.21247099254\n",
      "1.69999614815\n",
      "2.76634201431\n",
      "5.01782385635\n",
      "2.21247066916\n",
      "1.69999609785\n",
      "2.76634187541\n",
      "5.01782386511\n",
      "2.21247068627\n",
      "1.69999610051\n",
      "2.76634188276\n",
      "5.01782386465\n",
      "2.21247068537\n",
      "1.69999610037\n",
      "2.76634188237\n",
      "5.01782386467\n",
      "2.21247068541\n",
      "1.69999610038\n",
      "2.76634188239\n",
      "5.01782386467\n",
      "2.21247068541\n",
      "1.69999610038\n",
      "2.76634188239\n",
      "5.01782386467\n",
      "2.21247068541\n",
      "1.69999610038\n",
      "2.76634188239\n",
      "5.01782386467\n",
      "2.21247068541\n",
      "1.69999610038\n",
      "2.76634188239\n",
      "5.01782386467\n",
      "2.21247068541\n",
      "1.69999610038\n",
      "2.76634188239\n",
      "5.01782386467\n",
      "2.21247068541\n",
      "1.69999610038\n",
      "2.76634188239\n",
      "5.01782386467\n",
      "2.21247068541\n",
      "1.69999610038\n",
      "2.76634188239\n",
      "5.01782386467\n",
      "2.21247068541\n",
      "1.69999610038\n",
      "2.76634188239\n",
      "5.01782386467\n",
      "2.21247068541\n",
      "1.69999610038\n",
      "2.76634188239\n",
      "5.01782386467\n",
      "2.21247068541\n",
      "1.69999610038\n",
      "2.76634188239\n",
      "5.01782386467\n",
      "2.21247068541\n",
      "1.69999610038\n",
      "2.76634188239\n",
      "5.01782386467\n",
      "2.21247068541\n",
      "1.69999610038\n",
      "2.76634188239\n",
      "5.01782386467\n",
      "2.21247068541\n",
      "1.69999610038\n",
      "2.76634188239\n",
      "5.01782386467\n",
      "2.21247068541\n",
      "1.69999610038\n",
      "2.76634188239\n",
      "5.01782386467\n",
      "2.21247068541\n"
     ]
    },
    {
     "ename": "KeyboardInterrupt",
     "evalue": "",
     "output_type": "error",
     "traceback": [
      "\u001b[0;31m---------------------------------------------------------------------------\u001b[0m",
      "\u001b[0;31mKeyboardInterrupt\u001b[0m                         Traceback (most recent call last)",
      "\u001b[0;32m<ipython-input-175-6eda4afdeb3e>\u001b[0m in \u001b[0;36m<module>\u001b[0;34m()\u001b[0m\n\u001b[1;32m     16\u001b[0m     \u001b[0mP_prior_old\u001b[0m \u001b[0;34m=\u001b[0m \u001b[0mP_prior\u001b[0m\u001b[0;34m.\u001b[0m\u001b[0mcopy\u001b[0m\u001b[0;34m(\u001b[0m\u001b[0;34m)\u001b[0m\u001b[0;34m\u001b[0m\u001b[0m\n\u001b[1;32m     17\u001b[0m     \u001b[0;32mfor\u001b[0m \u001b[0;34m(\u001b[0m\u001b[0malpha\u001b[0m\u001b[0;34m,\u001b[0m \u001b[0mq\u001b[0m\u001b[0;34m)\u001b[0m\u001b[0;34m,\u001b[0m \u001b[0m_\u001b[0m \u001b[0;32min\u001b[0m \u001b[0mnp\u001b[0m\u001b[0;34m.\u001b[0m\u001b[0mndenumerate\u001b[0m\u001b[0;34m(\u001b[0m\u001b[0mP_likelihood\u001b[0m\u001b[0;34m)\u001b[0m\u001b[0;34m:\u001b[0m\u001b[0;34m\u001b[0m\u001b[0m\n\u001b[0;32m---> 18\u001b[0;31m         \u001b[0mP_likelihood\u001b[0m\u001b[0;34m[\u001b[0m\u001b[0malpha\u001b[0m\u001b[0;34m,\u001b[0m \u001b[0mq\u001b[0m\u001b[0;34m]\u001b[0m \u001b[0;34m=\u001b[0m \u001b[0mmultivariate_normal\u001b[0m\u001b[0;34m.\u001b[0m\u001b[0mpdf\u001b[0m\u001b[0;34m(\u001b[0m\u001b[0mX\u001b[0m\u001b[0;34m[\u001b[0m\u001b[0malpha\u001b[0m\u001b[0;34m]\u001b[0m\u001b[0;34m,\u001b[0m \u001b[0mw\u001b[0m\u001b[0;34m[\u001b[0m\u001b[0mq\u001b[0m\u001b[0;34m]\u001b[0m\u001b[0;34m,\u001b[0m \u001b[0msigma\u001b[0m\u001b[0;34m[\u001b[0m\u001b[0mq\u001b[0m\u001b[0;34m]\u001b[0m\u001b[0;34m)\u001b[0m\u001b[0;34m\u001b[0m\u001b[0m\n\u001b[0m\u001b[1;32m     19\u001b[0m \u001b[0;34m\u001b[0m\u001b[0m\n\u001b[1;32m     20\u001b[0m     \u001b[0;32mfor\u001b[0m \u001b[0;34m(\u001b[0m\u001b[0mq\u001b[0m\u001b[0;34m,\u001b[0m \u001b[0malpha\u001b[0m\u001b[0;34m)\u001b[0m\u001b[0;34m,\u001b[0m \u001b[0m_\u001b[0m \u001b[0;32min\u001b[0m \u001b[0mnp\u001b[0m\u001b[0;34m.\u001b[0m\u001b[0mndenumerate\u001b[0m\u001b[0;34m(\u001b[0m\u001b[0mP_posterior\u001b[0m\u001b[0;34m)\u001b[0m\u001b[0;34m:\u001b[0m\u001b[0;34m\u001b[0m\u001b[0m\n",
      "\u001b[0;32m/Users/d069049/anaconda/lib/python2.7/site-packages/scipy/stats/_multivariate.pyc\u001b[0m in \u001b[0;36mpdf\u001b[0;34m(self, x, mean, cov, allow_singular)\u001b[0m\n\u001b[1;32m    503\u001b[0m         \u001b[0mx\u001b[0m \u001b[0;34m=\u001b[0m \u001b[0mself\u001b[0m\u001b[0;34m.\u001b[0m\u001b[0m_process_quantiles\u001b[0m\u001b[0;34m(\u001b[0m\u001b[0mx\u001b[0m\u001b[0;34m,\u001b[0m \u001b[0mdim\u001b[0m\u001b[0;34m)\u001b[0m\u001b[0;34m\u001b[0m\u001b[0m\n\u001b[1;32m    504\u001b[0m         \u001b[0mpsd\u001b[0m \u001b[0;34m=\u001b[0m \u001b[0m_PSD\u001b[0m\u001b[0;34m(\u001b[0m\u001b[0mcov\u001b[0m\u001b[0;34m,\u001b[0m \u001b[0mallow_singular\u001b[0m\u001b[0;34m=\u001b[0m\u001b[0mallow_singular\u001b[0m\u001b[0;34m)\u001b[0m\u001b[0;34m\u001b[0m\u001b[0m\n\u001b[0;32m--> 505\u001b[0;31m         \u001b[0mout\u001b[0m \u001b[0;34m=\u001b[0m \u001b[0mnp\u001b[0m\u001b[0;34m.\u001b[0m\u001b[0mexp\u001b[0m\u001b[0;34m(\u001b[0m\u001b[0mself\u001b[0m\u001b[0;34m.\u001b[0m\u001b[0m_logpdf\u001b[0m\u001b[0;34m(\u001b[0m\u001b[0mx\u001b[0m\u001b[0;34m,\u001b[0m \u001b[0mmean\u001b[0m\u001b[0;34m,\u001b[0m \u001b[0mpsd\u001b[0m\u001b[0;34m.\u001b[0m\u001b[0mU\u001b[0m\u001b[0;34m,\u001b[0m \u001b[0mpsd\u001b[0m\u001b[0;34m.\u001b[0m\u001b[0mlog_pdet\u001b[0m\u001b[0;34m,\u001b[0m \u001b[0mpsd\u001b[0m\u001b[0;34m.\u001b[0m\u001b[0mrank\u001b[0m\u001b[0;34m)\u001b[0m\u001b[0;34m)\u001b[0m\u001b[0;34m\u001b[0m\u001b[0m\n\u001b[0m\u001b[1;32m    506\u001b[0m         \u001b[0;32mreturn\u001b[0m \u001b[0m_squeeze_output\u001b[0m\u001b[0;34m(\u001b[0m\u001b[0mout\u001b[0m\u001b[0;34m)\u001b[0m\u001b[0;34m\u001b[0m\u001b[0m\n\u001b[1;32m    507\u001b[0m \u001b[0;34m\u001b[0m\u001b[0m\n",
      "\u001b[0;32m/Users/d069049/anaconda/lib/python2.7/site-packages/scipy/stats/_multivariate.pyc\u001b[0m in \u001b[0;36m_logpdf\u001b[0;34m(self, x, mean, prec_U, log_det_cov, rank)\u001b[0m\n\u001b[1;32m    451\u001b[0m         \"\"\"\n\u001b[1;32m    452\u001b[0m         \u001b[0mdev\u001b[0m \u001b[0;34m=\u001b[0m \u001b[0mx\u001b[0m \u001b[0;34m-\u001b[0m \u001b[0mmean\u001b[0m\u001b[0;34m\u001b[0m\u001b[0m\n\u001b[0;32m--> 453\u001b[0;31m         \u001b[0mmaha\u001b[0m \u001b[0;34m=\u001b[0m \u001b[0mnp\u001b[0m\u001b[0;34m.\u001b[0m\u001b[0msum\u001b[0m\u001b[0;34m(\u001b[0m\u001b[0mnp\u001b[0m\u001b[0;34m.\u001b[0m\u001b[0msquare\u001b[0m\u001b[0;34m(\u001b[0m\u001b[0mnp\u001b[0m\u001b[0;34m.\u001b[0m\u001b[0mdot\u001b[0m\u001b[0;34m(\u001b[0m\u001b[0mdev\u001b[0m\u001b[0;34m,\u001b[0m \u001b[0mprec_U\u001b[0m\u001b[0;34m)\u001b[0m\u001b[0;34m)\u001b[0m\u001b[0;34m,\u001b[0m \u001b[0maxis\u001b[0m\u001b[0;34m=\u001b[0m\u001b[0;34m-\u001b[0m\u001b[0;36m1\u001b[0m\u001b[0;34m)\u001b[0m\u001b[0;34m\u001b[0m\u001b[0m\n\u001b[0m\u001b[1;32m    454\u001b[0m         \u001b[0;32mreturn\u001b[0m \u001b[0;34m-\u001b[0m\u001b[0;36m0.5\u001b[0m \u001b[0;34m*\u001b[0m \u001b[0;34m(\u001b[0m\u001b[0mrank\u001b[0m \u001b[0;34m*\u001b[0m \u001b[0m_LOG_2PI\u001b[0m \u001b[0;34m+\u001b[0m \u001b[0mlog_det_cov\u001b[0m \u001b[0;34m+\u001b[0m \u001b[0mmaha\u001b[0m\u001b[0;34m)\u001b[0m\u001b[0;34m\u001b[0m\u001b[0m\n\u001b[1;32m    455\u001b[0m \u001b[0;34m\u001b[0m\u001b[0m\n",
      "\u001b[0;31mKeyboardInterrupt\u001b[0m: "
     ]
    }
   ],
   "source": [
    "#EM Algorithm:\n",
    "M = 2\n",
    "P_prior = np.ones(2)*1/M\n",
    "P_likelihood = np.zeros((N,M))\n",
    "P_posterior = np.zeros((M,N))\n",
    "mu = X.mean(axis = 0)\n",
    "w = np.array([mu + np.random.rand(M)-0.5, mu + np.random.rand(M)-0.5])\n",
    "var = np.mean([np.linalg.norm(x - mu)**2 for x in X])\n",
    "sigma = np.array([var + np.random.rand()-0.5,var + np.random.rand()-0.5])\n",
    "\n",
    "distance = np.inf\n",
    "\n",
    "while distance > theta:\n",
    "    w_old = w.copy()\n",
    "    sigma_old = sigma.copy()\n",
    "    P_prior_old = P_prior.copy()\n",
    "    for (alpha, q), _ in np.ndenumerate(P_likelihood):\n",
    "        P_likelihood[alpha, q] = multivariate_normal.pdf(X[alpha], w[q], sigma[q])\n",
    "\n",
    "    for (q, alpha), _ in np.ndenumerate(P_posterior):\n",
    "        P_posterior[q, alpha] = (P_likelihood[alpha, q] * P_prior[q]) / np.sum([P_likelihood[alpha, r] * P_prior[r] for r in range(M)])\n",
    "        \n",
    "    distance = 0\n",
    "    for q in range(M):\n",
    "        w[q] = np.sum([P_posterior[q, alpha] * X[alpha] for alpha in range(N)]) / np.sum(P_posterior[q])\n",
    "        distance = max(distance, np.linalg.norm(w[q] - w_old[q]))\n",
    "        \n",
    "        sigma[q] = 1/N * np.sum([np.linalg.norm(X[alpha] - w[q]) ** 2 * P_posterior[q, alpha] for alpha in range(N)]) / np.sum(P_posterior[q])\n",
    "        distance = max(distance, np.abs(sigma[q] - sigma_old[q]))\n",
    "        \n",
    "        P_prior[q] = P_posterior[q].mean()\n",
    "        distance = max(distance, np.abs(P_prior[q] - P_prior_old[q]))\n",
    "#     print(w, sigma, P_prior)\n",
    "    print(distance)\n",
    "    "
   ]
  },
  {
   "cell_type": "markdown",
   "metadata": {},
   "source": [
    "#### 1.3"
   ]
  },
  {
   "cell_type": "code",
   "execution_count": 152,
   "metadata": {
    "ExecuteTime": {
     "end_time": "2017-07-16T17:36:13.631017Z",
     "start_time": "2017-07-16T17:36:13.423730"
    }
   },
   "outputs": [
    {
     "data": {
      "text/plain": [
       "[<matplotlib.lines.Line2D at 0x11d8af550>]"
      ]
     },
     "execution_count": 152,
     "metadata": {},
     "output_type": "execute_result"
    },
    {
     "data": {
      "image/png": "[encoded data removed]",
      "text/plain": [
       "<matplotlib.figure.Figure at 0x11d7ae810>"
      ]
     },
     "metadata": {},
     "output_type": "display_data"
    }
   ],
   "source": [
    "pred_EM = P_posterior.argmax(axis = 0)\n",
    "plt.scatter(*X.T, c = ['r' if p==1 else 'b' for p in pred_EM])\n",
    "plt.plot(w[0][0],w[0][1],'ro')\n",
    "plt.plot(w[1][0],w[1][1],'ro')\n",
    "plt.gca().add_artist(plt.Circle(w[0], sigma[0]))\n",
    "plt.gca().add_artist(plt.Circle(w[1], sigma[1]))\n",
    "plt.plot(w1[0],w1[1],'go')\n",
    "plt.plot(w2[0],w2[1],'go')\n"
   ]
  },
  {
   "cell_type": "code",
   "execution_count": 132,
   "metadata": {
    "ExecuteTime": {
     "end_time": "2017-07-16T17:23:31.550359Z",
     "start_time": "2017-07-16T17:23:31.531718"
    }
   },
   "outputs": [],
   "source": [
    "km = KMeans(2)\n",
    "km.fit(X)\n",
    "centers = km.cluster_centers_\n",
    "preds = km.predict(X)"
   ]
  },
  {
   "cell_type": "code",
   "execution_count": 154,
   "metadata": {
    "ExecuteTime": {
     "end_time": "2017-07-16T17:36:57.999687Z",
     "start_time": "2017-07-16T17:36:57.789234"
    }
   },
   "outputs": [
    {
     "data": {
      "text/plain": [
       "<matplotlib.text.Text at 0x11da6db10>"
      ]
     },
     "execution_count": 154,
     "metadata": {},
     "output_type": "execute_result"
    },
    {
     "data": {
      "image/png": "[encoded data removed]",
      "text/plain": [
       "<matplotlib.figure.Figure at 0x11d7b77d0>"
      ]
     },
     "metadata": {},
     "output_type": "display_data"
    }
   ],
   "source": [
    "plt.figure()\n",
    "plt.scatter(*X.T, c = ['r' if p==1 else 'b' for p in preds])\n",
    "plt.plot(centers[0][0],centers[0][1],'m*', markersize = 20)\n",
    "plt.plot(centers[1][0],centers[1][1],'m*', markersize = 20)\n",
    "plt.plot(w1[0],w1[1],'g*', markersize = 20)\n",
    "plt.plot(w2[0],w2[1],'g*', markersize = 20)\n",
    "plt.title('KMeans centers(red) and original centers (green)')"
   ]
  },
  {
   "cell_type": "markdown",
   "metadata": {},
   "source": [
    "#### 1.4"
   ]
  },
  {
   "cell_type": "code",
   "execution_count": null,
   "metadata": {
    "collapsed": true
   },
   "outputs": [],
   "source": [
    "sigma1 = [0.1, 0.5, 1, 1.5]\n",
    "for s1 in sigma1:\n",
    "    X, m = create_data(s1, sigma2=0.2)\n",
    "    "
   ]
  }
 ],
 "metadata": {
  "anaconda-cloud": {},
  "kernelspec": {
   "display_name": "Python [default]",
   "language": "python",
   "name": "python2"
  },
  "language_info": {
   "codemirror_mode": {
    "name": "ipython",
    "version": 2
   },
   "file_extension": ".py",
   "mimetype": "text/x-python",
   "name": "python",
   "nbconvert_exporter": "python",
   "pygments_lexer": "ipython2",
   "version": "2.7.12"
  },
  "toc": {
   "colors": {
    "hover_highlight": "#DAA520",
    "running_highlight": "#FF0000",
    "selected_highlight": "#FFD700"
   },
   "moveMenuLeft": true,
   "nav_menu": {
    "height": "138px",
    "width": "252px"
   },
   "navigate_menu": true,
   "number_sections": false,
   "sideBar": true,
   "threshold": 4,
   "toc_cell": false,
   "toc_section_display": "block",
   "toc_window_display": false,
   "widenNotebook": false
  }
 },
 "nbformat": 4,
 "nbformat_minor": 1
}
