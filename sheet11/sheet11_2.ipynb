{
 "cells": [
  {
   "cell_type": "markdown",
   "metadata": {
    "collapsed": true,
    "run_control": {
     "frozen": false,
     "read_only": false
    }
   },
   "source": [
    "# Machine Intelligence II - Team MensaNord\n",
    "## Sheet 11"
   ]
  },
  {
   "cell_type": "markdown",
   "metadata": {
    "run_control": {
     "frozen": false,
     "read_only": false
    }
   },
   "source": [
    "- Nikolai Zaki\n",
    "- Alexander Moore\n",
    "- Johannes Rieke\n",
    "- Georg Hoelger\n",
    "- Oliver Atanaszov"
   ]
  },
  {
   "cell_type": "code",
   "execution_count": 1,
   "metadata": {
    "ExecuteTime": {
     "end_time": "2017-07-17T23:40:07.770290Z",
     "start_time": "2017-07-17T23:40:07.378326Z"
    },
    "collapsed": true,
    "run_control": {
     "frozen": false,
     "read_only": false
    }
   },
   "outputs": [],
   "source": [
    "from __future__ import division, print_function\n",
    "import matplotlib.pyplot as plt\n",
    "%matplotlib inline\n",
    "import numpy as np\n",
    "#import seaborn as sns\n",
    "#sns.set_style('whitegrid')"
   ]
  },
  {
   "cell_type": "markdown",
   "metadata": {},
   "source": [
    "## Exercise 2\n"
   ]
  },
  {
   "cell_type": "markdown",
   "metadata": {},
   "source": [
    "### 1.1 Create dataset"
   ]
  },
  {
   "cell_type": "code",
   "execution_count": 2,
   "metadata": {
    "ExecuteTime": {
     "end_time": "2017-07-17T23:40:08.319688Z",
     "start_time": "2017-07-17T23:40:08.265297Z"
    },
    "collapsed": false
   },
   "outputs": [],
   "source": [
    "M = 2\n",
    "w1, w2 = [2,2], [1,1]  # means\n",
    "sigma2 = 0.2  # standard deviations\n",
    "N = 100\n",
    "P1, P2 = 2/3, 1/3\n",
    "\n",
    "def create_data(sigma1=0.7):\n",
    "    X = np.zeros((N, 2))\n",
    "    which_gaussian = np.zeros(N)\n",
    "\n",
    "    for n in range(N):\n",
    "        if np.random.rand() < P1:  # sample from first Gaussian\n",
    "            X[n] = np.random.multivariate_normal(w1, np.eye(len(w1)) * sigma1**2)\n",
    "            which_gaussian[n] = 0\n",
    "        else:  # sample from second Gaussian\n",
    "            X[n] = np.random.multivariate_normal(w2, np.eye(len(w2)) * sigma2**2)\n",
    "            which_gaussian[n] = 1\n",
    "            \n",
    "    return X, which_gaussian\n",
    "\n",
    "sigma1 = 0.7\n",
    "X, which_gaussian = create_data(sigma1)"
   ]
  },
  {
   "cell_type": "code",
   "execution_count": 3,
   "metadata": {
    "ExecuteTime": {
     "end_time": "2017-07-17T23:40:08.761288Z",
     "start_time": "2017-07-17T23:40:08.586501Z"
    },
    "collapsed": false
   },
   "outputs": [
    {
     "data": {
      "text/plain": [
       "<matplotlib.text.Text at 0x110ed0940>"
      ]
     },
     "execution_count": 3,
     "metadata": {},
     "output_type": "execute_result"
    },
    {
     "data": {
      "image/png": "[encoded data removed]",
      "text/plain": [
       "<matplotlib.figure.Figure at 0x10ab09b70>"
      ]
     },
     "metadata": {},
     "output_type": "display_data"
    }
   ],
   "source": [
    "def plot_data(X, which_gaussian, centers, stds):\n",
    "    plt.scatter(*X[which_gaussian == 0].T, c='r', label='Cluster 1')\n",
    "    plt.scatter(*X[which_gaussian == 1].T, c='b', label='Cluster 2')\n",
    "    plt.plot(centers[0][0], centers[0][1], 'k+', markersize=15, label='Centers')\n",
    "    plt.plot(centers[1][0], centers[1][1], 'k+', markersize=15)\n",
    "    plt.gca().add_artist(plt.Circle(centers[0], stds[0], ec='k', fc='none'))\n",
    "    plt.gca().add_artist(plt.Circle(centers[1], stds[1], ec='k', fc='none'))\n",
    "    plt.xlabel('x1')\n",
    "    plt.ylabel('x2')\n",
    "    plt.legend()\n",
    "    \n",
    "plot_data(X, which_gaussian, [w1, w2], [sigma1, sigma2])\n",
    "plt.title('Ground truth')"
   ]
  },
  {
   "cell_type": "markdown",
   "metadata": {
    "ExecuteTime": {
     "end_time": "2017-07-16T17:38:54.278702Z",
     "start_time": "2017-07-16T17:38:54.273506"
    }
   },
   "source": [
    "### 1.2 Run Expectation-Maximization algorithm"
   ]
  },
  {
   "cell_type": "markdown",
   "metadata": {},
   "source": [
    "See slide 18 of the lecture for an outline of the algorithm."
   ]
  },
  {
   "cell_type": "code",
   "execution_count": 4,
   "metadata": {
    "ExecuteTime": {
     "end_time": "2017-07-17T23:40:09.971511Z",
     "start_time": "2017-07-17T23:40:09.784985Z"
    },
    "collapsed": true
   },
   "outputs": [],
   "source": [
    "from scipy.stats import multivariate_normal"
   ]
  },
  {
   "cell_type": "code",
   "execution_count": 5,
   "metadata": {
    "ExecuteTime": {
     "end_time": "2017-07-17T23:40:10.981611Z",
     "start_time": "2017-07-17T23:40:10.209127Z"
    },
    "collapsed": false
   },
   "outputs": [
    {
     "name": "stdout",
     "output_type": "stream",
     "text": [
      "Initial centers: [[ 1.2938712   2.13233145]\n",
      " [ 1.73146591  1.43440641]]\n",
      "Initial variances: [ 1.535102    0.72676323]\n",
      "\n",
      "\n",
      "Step 1\n",
      "--------------------------------------------------\n",
      "Distances of X[0] to proposed centers: 1.28249075345 0.936357844332\n",
      "Likelihoods of X[0]: [ 0.06067654  0.11980118]\n",
      "Assignment probabilities of X[0]: [ 0.33619963  0.66380037]\n",
      "\n",
      "Distance of centers: 0.50780022779\n",
      "Distance of variances: 0.776594791989\n",
      "Distance of priors: 0.0997384021048\n",
      "Distance of centers: 0.140708188768\n",
      "Distance of variances: 0.229453957597\n",
      "Distance of priors: 0.0997384021048\n",
      "Maximum distance: 0.776594791989\n",
      "\n",
      "New centers: [[ 1.76568541  1.94457517]\n",
      " [ 1.75141172  1.57369373]]\n",
      "New variances: [ 0.75850721  0.49730927]\n",
      "New priors: [ 0.4002616  0.5997384]\n",
      "==================================================\n",
      "\n",
      "Step 2\n",
      "--------------------------------------------------\n",
      "Distances of X[0] to proposed centers: 1.32061724655 1.0383404055\n",
      "Likelihoods of X[0]: [ 0.06646231  0.10824933]\n",
      "Assignment probabilities of X[0]: [ 0.29066068  0.70933932]\n",
      "\n",
      "Distance of centers: 0.0866827972814\n",
      "Distance of variances: 0.121523898915\n",
      "Distance of priors: 0.00789147674195\n",
      "Distance of centers: 0.0554130646934\n",
      "Distance of variances: 0.0152431248689\n",
      "Distance of priors: 0.00789147674195\n",
      "Maximum distance: 0.121523898915\n",
      "\n",
      "New centers: [[ 1.85173291  1.95505056]\n",
      " [ 1.6960329   1.57174612]]\n",
      "New variances: [ 0.63698331  0.48206615]\n",
      "New priors: [ 0.39237012  0.60762988]\n",
      "==================================================\n",
      "\n",
      "Step 3\n",
      "--------------------------------------------------\n",
      "Distances of X[0] to proposed centers: 1.38232504942 0.995907439876\n",
      "Likelihoods of X[0]: [ 0.05575628  0.11801625]\n",
      "Assignment probabilities of X[0]: [ 0.2337614  0.7662386]\n",
      "\n",
      "Distance of centers: 0.0866635885231\n",
      "Distance of variances: 0.0218410127134\n",
      "Distance of priors: 0.00204481751786\n",
      "Distance of centers: 0.0574783698928\n",
      "Distance of variances: 0.00772835213839\n",
      "Distance of priors: 0.00204481751786\n",
      "Maximum distance: 0.0866635885231\n",
      "\n",
      "New centers: [[ 1.93014169  1.99196453]\n",
      " [ 1.64443986  1.54640994]]\n",
      "New variances: [ 0.61514229  0.4743378 ]\n",
      "New priors: [ 0.39441494  0.60558506]\n",
      "==================================================\n",
      "\n",
      "Step 4\n",
      "--------------------------------------------------\n",
      "Distances of X[0] to proposed centers: 1.46128790696 0.941059605969\n",
      "Likelihoods of X[0]: [ 0.04560943  0.13192176]\n",
      "Assignment probabilities of X[0]: [ 0.18378878  0.81621122]\n",
      "\n",
      "Distance of centers: 0.0903846685873\n",
      "Distance of variances: 0.018670194412\n",
      "Distance of priors: 0.00475084344349\n",
      "Distance of centers: 0.063820993217\n",
      "Distance of variances: 0.0223983003295\n",
      "Distance of priors: 0.00475084344349\n",
      "Maximum distance: 0.0903846685873\n",
      "\n",
      "New centers: [[ 2.00772777  2.03833035]\n",
      " [ 1.59063628  1.51208365]]\n",
      "New variances: [ 0.5964721  0.4519395]\n",
      "New priors: [ 0.39916578  0.60083422]\n",
      "==================================================\n",
      "\n",
      "Step 5\n",
      "--------------------------------------------------\n",
      "Distances of X[0] to proposed centers: 1.54751277415 0.878620088165\n",
      "Likelihoods of X[0]: [ 0.0358425   0.14990745]\n",
      "Assignment probabilities of X[0]: [ 0.13707186  0.86292814]\n",
      "\n",
      "Distance of centers: 0.0904753269855\n",
      "Distance of variances: 0.0242308499119\n",
      "Distance of priors: 0.00863043146233\n",
      "Distance of centers: 0.0716544031869\n",
      "Distance of variances: 0.0332229974927\n",
      "Distance of priors: 0.00863043146233\n",
      "Maximum distance: 0.0904753269855\n",
      "\n",
      "New centers: [[ 2.08343138  2.08787576]\n",
      " [ 1.53242772  1.47029708]]\n",
      "New variances: [ 0.57224125  0.4187165 ]\n",
      "New priors: [ 0.40779621  0.59220379]\n",
      "==================================================\n",
      "\n",
      "Step 6\n",
      "--------------------------------------------------\n",
      "Distances of X[0] to proposed centers: 1.63522529572 0.807975215483\n",
      "Likelihoods of X[0]: [ 0.02688797  0.17431879]\n",
      "Assignment probabilities of X[0]: [ 0.0960166  0.9039834]\n",
      "\n",
      "Distance of centers: 0.0804626311535\n",
      "Distance of variances: 0.0306550611118\n",
      "Distance of priors: 0.0140218899694\n",
      "Distance of centers: 0.0782144077892\n",
      "Distance of variances: 0.041954101223\n",
      "Distance of priors: 0.0140218899694\n",
      "Maximum distance: 0.0804626311535\n",
      "\n",
      "New centers: [[ 2.15124506  2.13118327]\n",
      " [ 1.46959084  1.42372435]]\n",
      "New variances: [ 0.54158619  0.3767624 ]\n",
      "New priors: [ 0.4218181  0.5781819]\n",
      "==================================================\n",
      "\n",
      "Step 7\n",
      "--------------------------------------------------\n",
      "Distances of X[0] to proposed centers: 1.71326297 0.730867706557\n",
      "Likelihoods of X[0]: [ 0.01955534  0.20791449]\n",
      "Assignment probabilities of X[0]: [ 0.06421238  0.93578762]\n",
      "\n",
      "Distance of centers: 0.0593304294688\n",
      "Distance of variances: 0.0313483462176\n",
      "Distance of priors: 0.0206258926959\n",
      "Distance of centers: 0.0824189205323\n",
      "Distance of variances: 0.0486942366202\n",
      "Distance of priors: 0.0206258926959\n",
      "Maximum distance: 0.0824189205323\n",
      "\n",
      "New centers: [[ 2.20357929  2.15913373]\n",
      " [ 1.40284474  1.37537318]]\n",
      "New variances: [ 0.51023784  0.32806816]\n",
      "New priors: [ 0.442444  0.557556]\n",
      "==================================================\n",
      "\n",
      "Step 8\n",
      "--------------------------------------------------\n",
      "Distances of X[0] to proposed centers: 1.76971336003 0.65008509509\n",
      "Likelihoods of X[0]: [ 0.01449367  0.25476013]\n",
      "Assignment probabilities of X[0]: [ 0.04319563  0.95680437]\n",
      "\n",
      "Distance of centers: 0.0325721538398\n",
      "Distance of variances: 0.0245782318987\n",
      "Distance of priors: 0.0273427224482\n",
      "Distance of centers: 0.0840230261891\n",
      "Distance of variances: 0.0530322865967\n",
      "Distance of priors: 0.0273427224482\n",
      "Maximum distance: 0.0840230261891\n",
      "\n",
      "New centers: [[ 2.23513069  2.1672241 ]\n",
      " [ 1.33359582  1.32778687]]\n",
      "New variances: [ 0.48565961  0.27503587]\n",
      "New priors: [ 0.46978672  0.53021328]\n",
      "==================================================\n",
      "\n",
      "Step 9\n",
      "--------------------------------------------------\n",
      "Distances of X[0] to proposed centers: 1.79760965996 0.568745092221\n",
      "Likelihoods of X[0]: [ 0.01176712  0.3213978 ]\n",
      "Assignment probabilities of X[0]: [ 0.03142048  0.96857952]\n",
      "\n",
      "Distance of centers: 0.0132039627682\n",
      "Distance of variances: 0.0150185910039\n",
      "Distance of priors: 0.0324006593102\n",
      "Distance of centers: 0.0821411523268\n",
      "Distance of variances: 0.0532880806386\n",
      "Distance of priors: 0.0324006593102\n",
      "Maximum distance: 0.0821411523268\n",
      "\n",
      "New centers: [[ 2.24474967  2.15817866]\n",
      " [ 1.26521496  1.28227613]]\n",
      "New variances: [ 0.47064102  0.22174779]\n",
      "New priors: [ 0.50218738  0.49781262]\n",
      "==================================================\n",
      "\n",
      "Step 10\n",
      "--------------------------------------------------\n",
      "Distances of X[0] to proposed centers: 1.79801922397 0.49049176862\n",
      "Likelihoods of X[0]: [ 0.01090254  0.41722465]\n",
      "Assignment probabilities of X[0]: [ 0.02568369  0.97431631]\n",
      "\n",
      "Distance of centers: 0.0209838942725\n",
      "Distance of variances: 0.00807104573872\n",
      "Distance of priors: 0.0341891108698\n",
      "Distance of centers: 0.0743873025937\n",
      "Distance of variances: 0.0462558672195\n",
      "Distance of priors: 0.0341891108698\n",
      "Maximum distance: 0.0743873025937\n",
      "\n",
      "New centers: [[ 2.23454693  2.13984215]\n",
      " [ 1.20478466  1.23889815]]\n",
      "New variances: [ 0.46256997  0.17549193]\n",
      "New priors: [ 0.53637649  0.46362351]\n",
      "==================================================\n",
      "\n",
      "Step 11\n",
      "--------------------------------------------------\n",
      "Distances of X[0] to proposed centers: 1.77787149687 0.419952855031\n",
      "Likelihoods of X[0]: [ 0.01129367  0.5487078 ]\n",
      "Assignment probabilities of X[0]: [ 0.0232583  0.9767417]\n",
      "\n",
      "Distance of centers: 0.0331075952032\n",
      "Distance of variances: 0.00309759397328\n",
      "Distance of priors: 0.0337091725362\n",
      "Distance of centers: 0.0633855744697\n",
      "Distance of variances: 0.0349899824475\n",
      "Distance of priors: 0.0337091725362\n",
      "Maximum distance: 0.0633855744697\n",
      "\n",
      "New centers: [[ 2.20939173  2.11831707]\n",
      " [ 1.1573989   1.19679921]]\n",
      "New variances: [ 0.45947238  0.14050194]\n",
      "New priors: [ 0.57008566  0.42991434]\n",
      "==================================================\n",
      "\n",
      "Step 12\n",
      "--------------------------------------------------\n",
      "Distances of X[0] to proposed centers: 1.74484735996 0.358813120978\n",
      "Likelihoods of X[0]: [ 0.01261042  0.71640428]\n",
      "Assignment probabilities of X[0]: [ 0.02280915  0.97719085]\n",
      "\n",
      "Distance of centers: 0.0393524612524\n",
      "Distance of variances: 0.00112099866479\n",
      "Distance of priors: 0.0325097772511\n",
      "Distance of centers: 0.0559437626865\n",
      "Distance of variances: 0.0281186590559\n",
      "Distance of priors: 0.0325097772511\n",
      "Maximum distance: 0.0559437626865\n",
      "\n",
      "New centers: [[ 2.1764603   2.09677323]\n",
      " [ 1.1212752   1.15408173]]\n",
      "New variances: [ 0.46059338  0.11238328]\n",
      "New priors: [ 0.60259544  0.39740456]\n",
      "==================================================\n",
      "\n",
      "Step 13\n",
      "--------------------------------------------------\n",
      "Distances of X[0] to proposed centers: 1.70629847211 0.30358264693\n",
      "Likelihoods of X[0]: [ 0.01465191  0.93981412]\n",
      "Assignment probabilities of X[0]: [ 0.02309394  0.97690606]\n",
      "\n",
      "Distance of centers: 0.039060417337\n",
      "Distance of variances: 0.0029444538384\n",
      "Distance of priors: 0.0300784224462\n",
      "Distance of centers: 0.0515858134381\n",
      "Distance of variances: 0.025159462777\n",
      "Distance of priors: 0.0300784224462\n",
      "Maximum distance: 0.0515858134381\n",
      "\n",
      "New centers: [[ 2.14280807  2.07694286]\n",
      " [ 1.0928334   1.111045  ]]\n",
      "New variances: [ 0.46353783  0.08722382]\n",
      "New priors: [ 0.63267386  0.36732614]\n",
      "==================================================\n",
      "\n",
      "Step 14\n",
      "--------------------------------------------------\n",
      "Distances of X[0] to proposed centers: 1.66849588435 0.252094006399\n",
      "Likelihoods of X[0]: [ 0.01704549  1.26756799]\n",
      "Assignment probabilities of X[0]: [ 0.02263716  0.97736284]\n",
      "\n",
      "Distance of centers: 0.034315110544\n",
      "Distance of variances: 0.00327409081096\n",
      "Distance of priors: 0.0256935185557\n",
      "Distance of centers: 0.0435446772317\n",
      "Distance of variances: 0.0209874173236\n",
      "Distance of priors: 0.0256935185557\n",
      "Maximum distance: 0.0435446772317\n",
      "\n",
      "New centers: [[ 2.11401244  2.05827903]\n",
      " [ 1.06935953  1.07436917]]\n",
      "New variances: [ 0.46681192  0.0662364 ]\n",
      "New priors: [ 0.65836738  0.34163262]\n",
      "==================================================\n",
      "\n",
      "Step 15\n",
      "--------------------------------------------------\n",
      "Distances of X[0] to proposed centers: 1.6349858712 0.208622484959\n",
      "Likelihoods of X[0]: [ 0.01946228  1.72996731]\n",
      "Assignment probabilities of X[0]: [ 0.02122021  0.97877979]\n",
      "\n",
      "Distance of centers: 0.0285906935859\n",
      "Distance of variances: 0.00383329000325\n",
      "Distance of priors: 0.020357789814\n",
      "Distance of centers: 0.0305898696341\n",
      "Distance of variances: 0.0142920144724\n",
      "Distance of priors: 0.020357789814\n",
      "Maximum distance: 0.0305898696341\n",
      "\n",
      "New centers: [[ 2.0927107   2.03920906]\n",
      " [ 1.04816647  1.05231029]]\n",
      "New variances: [ 0.47064521  0.05194439]\n",
      "New priors: [ 0.67872517  0.32127483]\n",
      "==================================================\n",
      "\n",
      "Step 16\n",
      "--------------------------------------------------\n",
      "Distances of X[0] to proposed centers: 1.60645510881 0.179231322392\n",
      "Likelihoods of X[0]: [ 0.02179911  2.24901079]\n",
      "Assignment probabilities of X[0]: [ 0.02006602  0.97993398]\n",
      "\n",
      "Distance of centers: 0.0236706560864\n",
      "Distance of variances: 0.00419837557221\n",
      "Distance of priors: 0.0157511380439\n",
      "Distance of centers: 0.0213937251412\n",
      "Distance of variances: 0.00889112295599\n",
      "Distance of priors: 0.0157511380439\n",
      "Maximum distance: 0.0236706560864\n",
      "\n",
      "New centers: [[ 2.07735658  2.02119377]\n",
      " [ 1.02921643  1.04238117]]\n",
      "New variances: [ 0.47484359  0.04305327]\n",
      "New priors: [ 0.69447631  0.30552369]\n",
      "==================================================\n",
      "\n",
      "Step 17\n",
      "--------------------------------------------------\n",
      "Distances of X[0] to proposed centers: 1.58284240356 0.162384561939\n",
      "Likelihoods of X[0]: [ 0.02396337  2.72156238]\n",
      "Assignment probabilities of X[0]: [ 0.01962167  0.98037833]\n",
      "\n",
      "Distance of centers: 0.0171727542498\n",
      "Distance of variances: 0.00336028887461\n",
      "Distance of priors: 0.0110757438338\n",
      "Distance of centers: 0.0143879593013\n",
      "Distance of variances: 0.00543625403387\n",
      "Distance of priors: 0.0110757438338\n",
      "Maximum distance: 0.0171727542498\n",
      "\n",
      "New centers: [[ 2.06656087  2.00783876]\n",
      " [ 1.01565886  1.03756393]]\n",
      "New variances: [ 0.47820388  0.03761701]\n",
      "New priors: [ 0.70555205  0.29444795]\n",
      "==================================================\n",
      "\n",
      "Step 18\n",
      "--------------------------------------------------\n",
      "Distances of X[0] to proposed centers: 1.56575043198 0.153212733066\n",
      "Likelihoods of X[0]: [ 0.02564327  3.09691616]\n",
      "Assignment probabilities of X[0]: [ 0.01945504  0.98054496]\n",
      "\n",
      "Distance of centers: 0.0108531142082\n",
      "Distance of variances: 0.00219242950523\n",
      "Distance of priors: 0.00689739613727\n",
      "Distance of centers: 0.00838825600846\n",
      "Distance of variances: 0.00286222174484\n",
      "Distance of priors: 0.00689739613727\n",
      "Maximum distance: 0.0108531142082\n",
      "\n",
      "New centers: [[ 2.05959999  1.99951192]\n",
      " [ 1.00769778  1.0349212 ]]\n",
      "New variances: [ 0.48039631  0.03475479]\n",
      "New priors: [ 0.71244945  0.28755055]\n",
      "==================================================\n",
      "\n",
      "Step 19\n",
      "--------------------------------------------------\n",
      "Distances of X[0] to proposed centers: 1.55493323822 0.148393183343\n",
      "Likelihoods of X[0]: [ 0.02675015  3.33596566]\n",
      "Assignment probabilities of X[0]: [ 0.01948053  0.98051947]\n",
      "\n",
      "Distance of centers: 0.00618212430444\n",
      "Distance of variances: 0.00131794805778\n",
      "Distance of priors: 0.00386225139859\n",
      "Distance of centers: 0.00428017570175\n",
      "Distance of variances: 0.00130248663703\n",
      "Distance of priors: 0.00386225139859\n",
      "Maximum distance: 0.00618212430444\n",
      "\n",
      "New centers: [[ 2.0555336   1.99485541]\n",
      " [ 1.00364436  1.03354654]]\n",
      "New variances: [ 0.48171426  0.0334523 ]\n",
      "New priors: [ 0.7163117  0.2836883]\n",
      "==================================================\n",
      "\n",
      "Step 20\n",
      "--------------------------------------------------\n",
      "Distances of X[0] to proposed centers: 1.54876232034 0.146035077882\n",
      "Likelihoods of X[0]: [ 0.0274006   3.45907617]\n",
      "Assignment probabilities of X[0]: [ 0.0196092  0.9803908]\n",
      "\n",
      "Distance of centers: 0.00320741480494\n",
      "Distance of variances: 0.000720465611464\n",
      "Distance of priors: 0.00197502289852\n",
      "Distance of centers: 0.00200895372633\n",
      "Distance of variances: 0.000555521978547\n",
      "Distance of priors: 0.00197502289852\n",
      "Maximum distance: 0.00320741480494\n",
      "\n",
      "New centers: [[ 2.05338416  1.99247478]\n",
      " [ 1.00175028  1.03287695]]\n",
      "New variances: [ 0.48243472  0.03289678]\n",
      "New priors: [ 0.71828672  0.28171328]\n",
      "==================================================\n",
      "\n",
      "Step 21\n",
      "--------------------------------------------------\n",
      "Distances of X[0] to proposed centers: 1.5455579853 0.144936857054\n",
      "Likelihoods of X[0]: [ 0.02774526  3.51563962]\n",
      "Assignment probabilities of X[0]: [ 0.01972526  0.98027474]\n",
      "\n",
      "Distance of centers: 0.00154615812569\n",
      "Distance of variances: 0.00035991254255\n",
      "Distance of priors: 0.000943450500374\n",
      "Distance of centers: 0.000904903843528\n",
      "Distance of variances: 0.000235310989163\n",
      "Distance of priors: 0.000943450500374\n",
      "Maximum distance: 0.00154615812569\n",
      "\n",
      "New centers: [[ 2.05233623  1.99133791]\n",
      " [ 1.00090095  1.03256471]]\n",
      "New variances: [ 0.48279463  0.03266147]\n",
      "New priors: [ 0.71923017  0.28076983]\n",
      "==================================================\n",
      "\n",
      "Step 22\n",
      "--------------------------------------------------\n",
      "Distances of X[0] to proposed centers: 1.54401269913 0.144439090475\n",
      "Likelihoods of X[0]: [ 0.02791346  3.54063108]\n",
      "Assignment probabilities of X[0]: [ 0.01979553  0.98020447]\n",
      "\n",
      "Distance of centers: 0.000711658930598\n",
      "Distance of variances: 0.000169188055068\n",
      "Distance of priors: 0.00043205889623\n",
      "Distance of centers: 0.000400384492043\n",
      "Distance of variances: 0.000100763735283\n",
      "Distance of priors: 0.00043205889623\n",
      "Maximum distance: 0.000711658930598\n",
      "\n",
      "New centers: [[ 2.05185089  1.99081744]\n",
      " [ 1.00052642  1.03242317]]\n",
      "New variances: [ 0.48296382  0.03256071]\n",
      "New priors: [ 0.71966223  0.28033777]\n",
      "==================================================\n",
      "\n"
     ]
    }
   ],
   "source": [
    "def variance(X):\n",
    "    \"\"\"Calculate a single variance value for the vectors in X.\"\"\"\n",
    "    mu = X.mean(axis=0)\n",
    "    return np.mean([np.linalg.norm(x - mu)**2 for x in X])\n",
    "\n",
    "def run_expectation_maximization(X, w=None, sigma_squared=None, verbose=False):\n",
    "    # Initialization.\n",
    "    P_prior = np.ones(2) * 1 / M\n",
    "    P_likelihood = np.zeros((N, M))\n",
    "    P_posterior = np.zeros((M, N))\n",
    "    \n",
    "    mu = X.mean(axis=0)  # mean of the original data\n",
    "    var = variance(X)  # variance of the original data\n",
    "\n",
    "    if w is None:\n",
    "        w = np.array([mu + np.random.rand(M) - 0.5, mu + np.random.rand(M) - 0.5])\n",
    "\n",
    "    if sigma_squared is None:\n",
    "        sigma_squared = np.array([var + np.random.rand() - 0.5,var + np.random.rand() - 0.5])\n",
    "        #sigma_squared = np.array([var, var])\n",
    "\n",
    "    if verbose:\n",
    "        print('Initial centers:', w)\n",
    "        print('Initial variances:', sigma_squared)\n",
    "        print()\n",
    "        print()\n",
    "\n",
    "\n",
    "    theta = 0.001\n",
    "    distance = np.inf\n",
    "    step = 0\n",
    "\n",
    "\n",
    "    # Optimization loop.\n",
    "    while distance > theta:\n",
    "    #for i in range(1):\n",
    "        step += 1\n",
    "        if verbose:\n",
    "            print('Step', step)\n",
    "            print('-'*50)\n",
    "\n",
    "        # Store old parameter values to calculate distance later on.\n",
    "        w_old = w.copy()\n",
    "        sigma_squared_old = sigma_squared.copy()\n",
    "        P_prior_old = P_prior.copy()\n",
    "\n",
    "        if verbose:\n",
    "            print('Distances of X[0] to proposed centers:', np.linalg.norm(X[0] - w[0]), np.linalg.norm(X[0] - w[1]))\n",
    "\n",
    "        # E-Step: Calculate likelihood for each data point.\n",
    "        for (alpha, q), _ in np.ndenumerate(P_likelihood):\n",
    "            P_likelihood[alpha, q] = multivariate_normal.pdf(X[alpha], w[q], sigma_squared[q])\n",
    "\n",
    "        if verbose:\n",
    "            print('Likelihoods of X[0]:', P_likelihood[0])\n",
    "\n",
    "        # E-Step: Calculate assignment probabilities (posterior) for each data point.\n",
    "        for (q, alpha), _ in np.ndenumerate(P_posterior):\n",
    "            P_posterior[q, alpha] = (P_likelihood[alpha, q] * P_prior[q]) / np.sum([P_likelihood[alpha, r] * P_prior[r] for r in range(M)])\n",
    "\n",
    "        if verbose:\n",
    "            print('Assignment probabilities of X[0]:', P_posterior[:, 0])\n",
    "            print()\n",
    "\n",
    "        distance = 0\n",
    "        # M-Step: Calculate new parameter values.\n",
    "        for q in range(M):\n",
    "            w[q] = np.sum([P_posterior[q, alpha] * X[alpha] for alpha in range(N)], axis=0) / np.sum(P_posterior[q])\n",
    "            #print(np.sum([P_posterior[q, alpha] * X[alpha] for alpha in range(N)], axis=0))\n",
    "            #print(np.sum(P_posterior[q]))\n",
    "            w_distance = np.linalg.norm(w[q] - w_old[q])\n",
    "            if verbose:\n",
    "                print('Distance of centers:', w_distance)\n",
    "            distance = max(distance, w_distance)\n",
    "\n",
    "            sigma_squared[q] = 1 / M * np.sum([np.linalg.norm(X[alpha] - w_old[q])**2 * P_posterior[q, alpha] for alpha in range(N)]) / np.sum(P_posterior[q])\n",
    "            sigma_squared_distance = np.abs(sigma_squared[q] - sigma_squared_old[q])\n",
    "            if verbose:\n",
    "                print('Distance of variances:', sigma_squared_distance)\n",
    "            distance = max(distance, sigma_squared_distance)\n",
    "\n",
    "            P_prior[q] = np.mean(P_posterior[q])\n",
    "            P_prior_distance = np.abs(P_prior[q] - P_prior_old[q])\n",
    "            if verbose:\n",
    "                print('Distance of priors:', P_prior_distance)\n",
    "            distance = max(distance, P_prior_distance)\n",
    "\n",
    "\n",
    "        if verbose:\n",
    "            print('Maximum distance:', distance)\n",
    "\n",
    "            print()\n",
    "            print('New centers:', w)\n",
    "            print('New variances:', sigma_squared)\n",
    "            print('New priors:', P_prior)\n",
    "\n",
    "            print('='*50)\n",
    "            print()\n",
    "\n",
    "    which_gaussian_EM = P_posterior.argmax(axis=0)\n",
    "    \n",
    "    return which_gaussian_EM, w, np.sqrt(sigma_squared), step\n",
    "\n",
    "which_gaussian_em, cluster_centers_em, cluster_stds_em, num_steps_em = run_expectation_maximization(X, verbose=True)"
   ]
  },
  {
   "cell_type": "code",
   "execution_count": 6,
   "metadata": {
    "ExecuteTime": {
     "end_time": "2017-07-17T23:40:11.252221Z",
     "start_time": "2017-07-17T23:40:11.079567Z"
    },
    "collapsed": false
   },
   "outputs": [
    {
     "data": {
      "text/plain": [
       "<matplotlib.text.Text at 0x115c06d68>"
      ]
     },
     "execution_count": 6,
     "metadata": {},
     "output_type": "execute_result"
    },
    {
     "data": {
      "image/png": "[encoded data removed]",
      "text/plain": [
       "<matplotlib.figure.Figure at 0x115bc9be0>"
      ]
     },
     "metadata": {},
     "output_type": "display_data"
    }
   ],
   "source": [
    "plot_data(X, which_gaussian_em, cluster_centers_em, cluster_stds_em)\n",
    "plt.title('Predicted by Expectation-Maximization')"
   ]
  },
  {
   "cell_type": "markdown",
   "metadata": {},
   "source": [
    "### 1.3 Run K-means algorithm"
   ]
  },
  {
   "cell_type": "markdown",
   "metadata": {},
   "source": [
    "For simplicity, we use the sklearn version of K-means here. The detailed algorithm was already implemented in a previous exercise. "
   ]
  },
  {
   "cell_type": "code",
   "execution_count": 7,
   "metadata": {
    "ExecuteTime": {
     "end_time": "2017-07-17T23:40:12.213163Z",
     "start_time": "2017-07-17T23:40:12.112480Z"
    },
    "collapsed": true
   },
   "outputs": [],
   "source": [
    "from sklearn.cluster import KMeans"
   ]
  },
  {
   "cell_type": "code",
   "execution_count": 8,
   "metadata": {
    "ExecuteTime": {
     "end_time": "2017-07-17T23:40:12.434072Z",
     "start_time": "2017-07-17T23:40:12.417309Z"
    },
    "collapsed": false
   },
   "outputs": [],
   "source": [
    "def run_k_means(X):\n",
    "    km = KMeans(2)\n",
    "    km.fit(X)\n",
    "    which_gaussian_km = km.predict(X)\n",
    "    cluster_stds = np.array([np.sqrt(variance(X[which_gaussian_km == 0])), np.sqrt(variance(X[which_gaussian_km == 1]))])\n",
    "    return which_gaussian_km, km.cluster_centers_, cluster_stds\n",
    "\n",
    "which_gaussian_km, cluster_centers_km, cluster_stds_km = run_k_means(X)"
   ]
  },
  {
   "cell_type": "code",
   "execution_count": 9,
   "metadata": {
    "ExecuteTime": {
     "end_time": "2017-07-17T23:40:12.891443Z",
     "start_time": "2017-07-17T23:40:12.719490Z"
    },
    "collapsed": false
   },
   "outputs": [
    {
     "data": {
      "text/plain": [
       "<matplotlib.text.Text at 0x116f19828>"
      ]
     },
     "execution_count": 9,
     "metadata": {},
     "output_type": "execute_result"
    },
    {
     "data": {
      "image/png": "[encoded data removed]",
      "text/plain": [
       "<matplotlib.figure.Figure at 0x116a73d30>"
      ]
     },
     "metadata": {},
     "output_type": "display_data"
    }
   ],
   "source": [
    "plot_data(X, which_gaussian_km, cluster_centers_km, cluster_stds_km)\n",
    "plt.title('Predicted by K-Means')"
   ]
  },
  {
   "cell_type": "markdown",
   "metadata": {},
   "source": [
    "K-means clusters the data point by establishing a straight separation line. This cannot fully capture the nature of the data, e.g. the points around the lower left Gaussian, which actually belong to the upper right Gaussian."
   ]
  },
  {
   "cell_type": "markdown",
   "metadata": {},
   "source": [
    "### 1.4 Initialize EM algorithm with cluster parameters from K-Means"
   ]
  },
  {
   "cell_type": "code",
   "execution_count": 10,
   "metadata": {
    "ExecuteTime": {
     "end_time": "2017-07-17T23:40:14.218162Z",
     "start_time": "2017-07-17T23:40:13.887417Z"
    },
    "collapsed": false
   },
   "outputs": [],
   "source": [
    "_, _, _, num_steps_em_km = run_expectation_maximization(X, cluster_centers_km, cluster_stds_km**2)"
   ]
  },
  {
   "cell_type": "code",
   "execution_count": 11,
   "metadata": {
    "ExecuteTime": {
     "end_time": "2017-07-17T23:40:14.324184Z",
     "start_time": "2017-07-17T23:40:14.320735Z"
    },
    "collapsed": false
   },
   "outputs": [
    {
     "name": "stdout",
     "output_type": "stream",
     "text": [
      "Took 22 steps with random initalization\n",
      "Took 14 steps with initialization from K-means\n"
     ]
    }
   ],
   "source": [
    "print('Took', num_steps_em, 'steps with random initalization')\n",
    "print('Took', num_steps_em_km, 'steps with initialization from K-means')"
   ]
  },
  {
   "cell_type": "markdown",
   "metadata": {},
   "source": [
    "### 1.5 Repeat analysis for different $\\sigma_1$ values"
   ]
  },
  {
   "cell_type": "code",
   "execution_count": 12,
   "metadata": {
    "ExecuteTime": {
     "end_time": "2017-07-17T23:40:18.552319Z",
     "start_time": "2017-07-17T23:40:15.035031Z"
    },
    "collapsed": false
   },
   "outputs": [
    {
     "data": {
      "image/png": "[encoded data removed]",
      "text/plain": [
       "<matplotlib.figure.Figure at 0x11432ec50>"
      ]
     },
     "metadata": {},
     "output_type": "display_data"
    }
   ],
   "source": [
    "sigma1s = [0.1, 0.5, 1, 1.5]\n",
    "fig, axes = plt.subplots(len(sigma1s), 3, figsize=(15, 15), sharex=True, sharey=True)\n",
    "\n",
    "for i, (sigma1, horizontal_axes) in enumerate(zip(sigma1s, axes)):\n",
    "    X, which_gaussian = create_data(sigma1)\n",
    "    \n",
    "    plt.sca(horizontal_axes[0])\n",
    "    plot_data(X, which_gaussian, [w1, w2], [sigma1, sigma2])\n",
    "    if i == 0:\n",
    "        plt.title('Ground truth')\n",
    "        \n",
    "    which_gaussian_em, cluster_centers_em, cluster_stds_em, num_steps_em = run_expectation_maximization(X)\n",
    "    plt.sca(horizontal_axes[1])\n",
    "    plot_data(X, which_gaussian_em, cluster_centers_em, cluster_stds_em)\n",
    "    if i == 0:\n",
    "        plt.title('Predicted by Expectation-Maximization')\n",
    "        \n",
    "    which_gaussian_km, cluster_centers_km, cluster_stds_km = run_k_means(X)\n",
    "    plt.sca(horizontal_axes[2])\n",
    "    plot_data(X, which_gaussian_km, cluster_centers_km, cluster_stds_km)\n",
    "    if i == 0:\n",
    "        plt.title('Predicted by K-Means')"
   ]
  },
  {
   "cell_type": "markdown",
   "metadata": {},
   "source": [
    "Each row corresponds to increasing $\\sigma_1$ (the values are 0.1, 0.5, 1, 1.5).\n",
    "\n",
    "K-means and Expectation-Maximization show similar results for small $\\sigma_1$, i.e. if the clusters are clearly separated. With increasing $\\sigma_1$, the Gaussians overlap more and more, and K-means fails to cluster them correctly."
   ]
  },
  {
   "cell_type": "code",
   "execution_count": null,
   "metadata": {
    "collapsed": true
   },
   "outputs": [],
   "source": [
    ""
   ]
  }
 ],
 "metadata": {
  "anaconda-cloud": {},
  "kernelspec": {
   "display_name": "Python 3",
   "language": "python",
   "name": "python3"
  },
  "language_info": {
   "codemirror_mode": {
    "name": "ipython",
    "version": 3.0
   },
   "file_extension": ".py",
   "mimetype": "text/x-python",
   "name": "python",
   "nbconvert_exporter": "python",
   "pygments_lexer": "ipython3",
   "version": "3.6.0"
  },
  "toc": {
   "colors": {
    "hover_highlight": "#DAA520",
    "navigate_num": "#000000",
    "navigate_text": "#333333",
    "running_highlight": "#FF0000",
    "selected_highlight": "#FFD700",
    "sidebar_border": "#EEEEEE",
    "wrapper_background": "#FFFFFF"
   },
   "moveMenuLeft": true,
   "nav_menu": {
    "height": "138px",
    "width": "252px"
   },
   "navigate_menu": true,
   "number_sections": false,
   "sideBar": true,
   "threshold": 4.0,
   "toc_cell": false,
   "toc_section_display": "block",
   "toc_window_display": false,
   "widenNotebook": false
  },
  "varInspector": {
   "cols": {
    "lenName": 16.0,
    "lenType": 16.0,
    "lenVar": 40.0
   },
   "kernels_config": {
    "python": {
     "delete_cmd_postfix": "",
     "delete_cmd_prefix": "del ",
     "library": "var_list.py",
     "varRefreshCmd": "print(var_dic_list())"
    },
    "r": {
     "delete_cmd_postfix": ") ",
     "delete_cmd_prefix": "rm(",
     "library": "var_list.r",
     "varRefreshCmd": "cat(var_dic_list()) "
    }
   },
   "types_to_exclude": [
    "module",
    "function",
    "builtin_function_or_method",
    "instance",
    "_Feature"
   ],
   "window_display": false
  }
 },
 "nbformat": 4,
 "nbformat_minor": 0
}