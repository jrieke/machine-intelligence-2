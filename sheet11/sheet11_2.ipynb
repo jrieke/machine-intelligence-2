{
 "cells": [
  {
   "cell_type": "markdown",
   "metadata": {
    "collapsed": true,
    "run_control": {
     "frozen": false,
     "read_only": false
    }
   },
   "source": [
    "# Machine Intelligence II - Team MensaNord\n",
    "## Sheet 11"
   ]
  },
  {
   "cell_type": "markdown",
   "metadata": {
    "run_control": {
     "frozen": false,
     "read_only": false
    }
   },
   "source": [
    "- Nikolai Zaki\n",
    "- Alexander Moore\n",
    "- Johannes Rieke\n",
    "- Georg Hoelger\n",
    "- Oliver Atanaszov"
   ]
  },
  {
   "cell_type": "code",
   "execution_count": 121,
   "metadata": {
    "ExecuteTime": {
     "end_time": "2017-07-16T17:12:31.380906Z",
     "start_time": "2017-07-16T17:12:31.306399"
    },
    "collapsed": true,
    "run_control": {
     "frozen": false,
     "read_only": false
    }
   },
   "outputs": [],
   "source": [
    "%reset -f\n",
    "from __future__ import division, print_function\n",
    "import matplotlib.pyplot as plt\n",
    "%matplotlib inline\n",
    "import numpy as np\n",
    "from scipy.stats import multivariate_normal\n",
    "import seaborn as sns"
   ]
  },
  {
   "cell_type": "markdown",
   "metadata": {},
   "source": [
    "### Exercise 2\n"
   ]
  },
  {
   "cell_type": "markdown",
   "metadata": {},
   "source": [
    "#### 1.1"
   ]
  },
  {
   "cell_type": "code",
   "execution_count": 122,
   "metadata": {
    "ExecuteTime": {
     "end_time": "2017-07-16T17:12:31.878018Z",
     "start_time": "2017-07-16T17:12:31.873337"
    },
    "collapsed": true
   },
   "outputs": [],
   "source": [
    "w1, w2 = [2,2], [1,1]\n",
    "sigma1, sigma2 = 0.7, 0.2\n",
    "N = 100\n",
    "P1, P2 = 2/3, 1/3\n",
    "theta = 0.001"
   ]
  },
  {
   "cell_type": "code",
   "execution_count": 123,
   "metadata": {
    "ExecuteTime": {
     "end_time": "2017-07-16T17:12:37.207906Z",
     "start_time": "2017-07-16T17:12:37.185372"
    }
   },
   "outputs": [],
   "source": [
    "X, m  = np.zeros((N, 2)), np.zeros((N, 2))\n",
    "for n in range(N):\n",
    "    if np.random.rand() < P1:\n",
    "        X[n] = np.random.multivariate_normal(w1, np.eye(len(w1)) * sigma1**2)\n",
    "        m[n] = [1,0]\n",
    "    else:\n",
    "        X[n] = np.random.multivariate_normal(w2, np.eye(len(w2)) * sigma2**2)\n",
    "        m[n] = [0,1]"
   ]
  },
  {
   "cell_type": "code",
   "execution_count": 125,
   "metadata": {
    "ExecuteTime": {
     "end_time": "2017-07-16T17:13:21.753272Z",
     "start_time": "2017-07-16T17:13:11.581415"
    }
   },
   "outputs": [
    {
     "name": "stdout",
     "output_type": "stream",
     "text": [
      "2.86580854657\n",
      "1.70831072677\n",
      "2.66724785557\n",
      "1.65211466182\n",
      "2.48304847507\n",
      "1.99631054405\n",
      "2.82723501386\n",
      "1.64961675708\n",
      "2.48055074021\n",
      "1.99966258745\n",
      "2.8305865631\n",
      "1.64673269486\n",
      "2.47766683044\n",
      "2.00344676042\n",
      "2.83437013606\n",
      "1.643451849\n",
      "2.4743861507\n",
      "2.00777577348\n",
      "2.83869840761\n",
      "1.63967007504\n",
      "2.47060455848\n",
      "2.01280434081\n",
      "2.84372603988\n",
      "1.63524575481\n",
      "2.46618043768\n",
      "2.01875052523\n",
      "2.84967101737\n",
      "1.62998272823\n",
      "2.46091762989\n",
      "2.02593109845\n",
      "2.85684999048\n",
      "1.6236044238\n",
      "2.45453956418\n",
      "2.03482234901\n",
      "2.86573905386\n",
      "1.61571512472\n",
      "2.44665052145\n",
      "2.04616878561\n",
      "2.87708239717\n",
      "1.60574468118\n",
      "2.43668034347\n",
      "2.06118474474\n",
      "2.89209382139\n",
      "1.59287953994\n",
      "2.42381545684\n",
      "2.08193832692\n",
      "2.91284053443\n",
      "1.57600654891\n",
      "2.40694267162\n",
      "2.11207898074\n",
      "2.94297060428\n",
      "1.55373759745\n",
      "2.38467382732\n",
      "2.1580833501\n",
      "2.98895901667\n",
      "1.52452979612\n",
      "2.35546602744\n",
      "2.23042723915\n",
      "3.06128061864\n",
      "1.48663112702\n",
      "2.31756745256\n",
      "2.33927976504\n",
      "3.17009957072\n",
      "1.43841084837\n",
      "2.26934772996\n",
      "2.48796526557\n",
      "3.31873322254\n",
      "1.36551164285\n",
      "2.19644286878\n",
      "2.70965900343\n",
      "3.54068970662\n",
      "1.23362077117\n",
      "2.06438909991\n",
      "2.78547200665\n",
      "3.62150607631\n",
      "1.26198368174\n",
      "2.05372182902\n",
      "4.02448677578\n",
      "2.2279787454\n",
      "2.95084898177\n",
      "2.02131226248\n",
      "2.85223220836\n",
      "1.62771905429\n",
      "2.45865404396\n",
      "2.02906094181\n",
      "2.85997908916\n",
      "1.6208236605\n",
      "2.45175889607\n",
      "2.03877390112\n",
      "2.86968956519\n",
      "1.61222562079\n",
      "2.44316111766\n",
      "2.05133076888\n",
      "2.88224287295\n",
      "1.60127109583\n",
      "2.43220685734\n",
      "2.06820955845\n",
      "2.89911637406\n",
      "1.58703732234\n",
      "2.4179733255\n",
      "2.0919656993\n",
      "2.92286442954\n",
      "1.56829722262\n",
      "2.39923339987\n",
      "2.12714336401\n",
      "2.95802966242\n",
      "1.5435908098\n",
      "2.37452704895\n",
      "2.18167617448\n",
      "3.01254416944\n",
      "1.51131775986\n",
      "2.34225399297\n",
      "2.26711812785\n",
      "3.0979610805\n",
      "1.46967716927\n",
      "2.3006136611\n",
      "2.38982095589\n",
      "3.22061908812\n",
      "1.4161512712\n",
      "2.24708793005\n",
      "2.56512172516\n",
      "3.39593006958\n",
      "1.32196241963\n",
      "2.15288145339\n",
      "2.7650573265\n",
      "3.59644177614\n",
      "1.1699618138\n",
      "1.99520746143\n",
      "2.78289803664\n",
      "3.62214085197\n",
      "1.28626124636\n",
      "2.05621847226\n",
      "3.779932297\n",
      "2.91972549276\n",
      "3.79002287775\n",
      "1.31534780429\n",
      "2.14626411783\n",
      "2.76942785333\n",
      "3.60090878488\n",
      "1.16075813768\n",
      "1.98070378276\n",
      "2.78130906088\n",
      "3.62057555618\n",
      "1.28619932412\n",
      "2.05619620601\n",
      "3.78084725323\n",
      "2.91875054439\n",
      "3.78911757305\n",
      "1.3161495323\n",
      "2.14706619392\n",
      "2.7689406271\n",
      "3.60040888251\n",
      "1.16186068814\n",
      "1.98265746721\n",
      "2.78156270988\n",
      "3.62083018604\n",
      "1.28623889438\n",
      "2.05620991284\n",
      "3.7802845616\n",
      "2.91935202479\n",
      "3.78967618073\n",
      "1.3156552103\n",
      "2.14657165788\n",
      "2.76924232013\n",
      "3.60071835605\n",
      "1.16118052165\n",
      "1.98146095862\n",
      "2.7814088031\n",
      "3.62067580195\n",
      "1.286215632\n",
      "2.05620184744\n",
      "3.78061572349\n",
      "2.91899876981\n",
      "3.78934814128\n",
      "1.31594564317\n",
      "2.14686221674\n",
      "2.76906556638\n",
      "3.60053701732\n",
      "1.16158000358\n",
      "1.98216703222\n",
      "2.78150017703\n",
      "3.62076750577\n",
      "1.28622973722\n",
      "2.05620673515\n",
      "3.78041505716\n",
      "2.91921307389\n",
      "3.78954716051\n",
      "1.3157694891\n",
      "2.14668598633\n",
      "2.76917294182\n",
      "3.60064716899\n",
      "1.16133766042\n",
      "1.98173984404\n",
      "2.78144508336\n",
      "3.62071222887\n",
      "1.28622133189\n",
      "2.05620382158\n",
      "3.78053468234\n",
      "2.91908541159\n",
      "3.78942860804\n",
      "1.31587443949\n",
      "2.14679098224\n",
      "2.76910903219\n",
      "3.60058160359\n",
      "1.16148202755\n",
      "1.9819947483\n",
      "2.78147802779\n",
      "3.62074528871\n",
      "1.28622639507\n",
      "2.0562055763\n",
      "3.78046264013\n",
      "2.91916232684\n",
      "3.78950003631\n",
      "1.315811213\n",
      "2.14672772833\n",
      "2.76914755635\n",
      "3.60062112465\n",
      "1.16139504844\n",
      "1.981841322\n",
      "2.78145822337\n",
      "3.62072541697\n",
      "1.2862233644\n",
      "2.05620452585\n",
      "3.78050576866\n",
      "2.91911629297\n",
      "3.78945728699\n",
      "1.31584905597\n",
      "2.14676558771\n",
      "2.76912450661\n",
      "3.60059747802\n",
      "1.16144710576\n",
      "1.98193320263\n",
      "2.78147009241\n",
      "3.62073732711\n",
      "1.28622518547\n",
      "2.056205157\n",
      "3.78047985574\n",
      "2.91914395577\n",
      "3.78948297624\n",
      "1.31582631592\n",
      "2.14674283781\n",
      "2.76913836023\n",
      "3.60061169023\n",
      "1.16141582341\n",
      "1.98187800909\n",
      "2.78146296579\n",
      "3.62073017608\n",
      "1.28622409373\n",
      "2.0562047786\n",
      "3.78049539147\n",
      "2.91912737247\n",
      "3.78946757612\n",
      "1.31583994837\n",
      "2.14675647616\n",
      "2.76913005617\n",
      "3.60060317117\n",
      "1.16143457659\n",
      "1.98191110361\n",
      "2.78146724013\n",
      "3.62073446516\n",
      "1.28622474914\n",
      "2.05620500576\n",
      "3.78048606512\n",
      "2.91913732825\n",
      "3.7894768216\n",
      "1.31583176422\n",
      "2.14674828847\n",
      "2.76913504183\n",
      "3.6006082859\n",
      "1.16142331814\n",
      "1.98189123788\n",
      "2.78146467478\n",
      "3.620731891\n",
      "1.286224356\n",
      "2.0562048695\n",
      "3.78049165953\n",
      "2.91913135648\n",
      "3.7894712759\n",
      "1.31583667334\n",
      "2.14675319972\n",
      "2.7691320514\n",
      "3.60060521805\n",
      "1.16143007129\n",
      "1.98190315484\n",
      "2.78146621382\n",
      "3.62073343534\n",
      "1.28622459194\n",
      "2.05620495127\n",
      "3.78048830216\n",
      "2.91913494039\n",
      "3.78947460411\n",
      "1.31583372718\n",
      "2.14675025228\n",
      "2.76913384613\n",
      "3.60060705923\n",
      "1.16142601844\n",
      "1.9818960033\n",
      "2.78146529028\n",
      "3.62073250862\n",
      "1.28622445039\n",
      "2.05620490221\n",
      "3.78049031645\n",
      "2.91913279021\n",
      "3.78947260734\n",
      "1.31583549475\n",
      "2.14675202061\n",
      "2.76913276939\n",
      "3.60060595462\n",
      "1.16142844996\n",
      "1.98190029402\n",
      "2.7814658444\n",
      "3.62073306465\n",
      "1.28622453533\n",
      "2.05620493165\n",
      "3.78048910775\n",
      "2.91913408046\n",
      "3.78947380554\n",
      "1.31583443409\n",
      "2.1467509595\n",
      "2.76913341551\n",
      "3.60060661747\n",
      "1.16142699089\n",
      "1.98189771935\n",
      "2.7814655119\n",
      "3.62073273101\n",
      "1.28622448436\n",
      "2.05620491399\n",
      "3.78048983297\n"
     ]
    },
    {
     "ename": "KeyboardInterrupt",
     "evalue": "",
     "output_type": "error",
     "traceback": [
      "\u001b[0;31m---------------------------------------------------------------------------\u001b[0m",
      "\u001b[0;31mKeyboardInterrupt\u001b[0m                         Traceback (most recent call last)",
      "\u001b[0;32m<ipython-input-125-61cc6f38848f>\u001b[0m in \u001b[0;36m<module>\u001b[0;34m()\u001b[0m\n\u001b[1;32m     24\u001b[0m     \u001b[0mdistance\u001b[0m \u001b[0;34m=\u001b[0m \u001b[0;36m0\u001b[0m\u001b[0;34m\u001b[0m\u001b[0m\n\u001b[1;32m     25\u001b[0m     \u001b[0;32mfor\u001b[0m \u001b[0mq\u001b[0m \u001b[0;32min\u001b[0m \u001b[0mrange\u001b[0m\u001b[0;34m(\u001b[0m\u001b[0mM\u001b[0m\u001b[0;34m)\u001b[0m\u001b[0;34m:\u001b[0m\u001b[0;34m\u001b[0m\u001b[0m\n\u001b[0;32m---> 26\u001b[0;31m         \u001b[0mw\u001b[0m\u001b[0;34m[\u001b[0m\u001b[0mq\u001b[0m\u001b[0;34m]\u001b[0m \u001b[0;34m=\u001b[0m \u001b[0mnp\u001b[0m\u001b[0;34m.\u001b[0m\u001b[0msum\u001b[0m\u001b[0;34m(\u001b[0m\u001b[0;34m[\u001b[0m\u001b[0mP_posterior\u001b[0m\u001b[0;34m[\u001b[0m\u001b[0mq\u001b[0m\u001b[0;34m,\u001b[0m \u001b[0malpha\u001b[0m\u001b[0;34m]\u001b[0m \u001b[0;34m*\u001b[0m \u001b[0mX\u001b[0m\u001b[0;34m[\u001b[0m\u001b[0malpha\u001b[0m\u001b[0;34m]\u001b[0m \u001b[0;32mfor\u001b[0m \u001b[0malpha\u001b[0m \u001b[0;32min\u001b[0m \u001b[0mrange\u001b[0m\u001b[0;34m(\u001b[0m\u001b[0mN\u001b[0m\u001b[0;34m)\u001b[0m\u001b[0;34m]\u001b[0m\u001b[0;34m)\u001b[0m \u001b[0;34m/\u001b[0m \u001b[0mnp\u001b[0m\u001b[0;34m.\u001b[0m\u001b[0msum\u001b[0m\u001b[0;34m(\u001b[0m\u001b[0mP_posterior\u001b[0m\u001b[0;34m[\u001b[0m\u001b[0mq\u001b[0m\u001b[0;34m]\u001b[0m\u001b[0;34m)\u001b[0m\u001b[0;34m\u001b[0m\u001b[0m\n\u001b[0m\u001b[1;32m     27\u001b[0m         \u001b[0mdistance\u001b[0m \u001b[0;34m=\u001b[0m \u001b[0mmax\u001b[0m\u001b[0;34m(\u001b[0m\u001b[0mdistance\u001b[0m\u001b[0;34m,\u001b[0m \u001b[0mnp\u001b[0m\u001b[0;34m.\u001b[0m\u001b[0mlinalg\u001b[0m\u001b[0;34m.\u001b[0m\u001b[0mnorm\u001b[0m\u001b[0;34m(\u001b[0m\u001b[0mw\u001b[0m\u001b[0;34m[\u001b[0m\u001b[0mq\u001b[0m\u001b[0;34m]\u001b[0m \u001b[0;34m-\u001b[0m \u001b[0mw_old\u001b[0m\u001b[0;34m[\u001b[0m\u001b[0mq\u001b[0m\u001b[0;34m]\u001b[0m\u001b[0;34m)\u001b[0m\u001b[0;34m)\u001b[0m\u001b[0;34m\u001b[0m\u001b[0m\n\u001b[1;32m     28\u001b[0m \u001b[0;34m\u001b[0m\u001b[0m\n",
      "\u001b[0;31mKeyboardInterrupt\u001b[0m: "
     ]
    }
   ],
   "source": [
    "#EM Algorithm:\n",
    "M = 2\n",
    "P_prior = np.ones(2)*1/M\n",
    "P_likelihood = np.zeros((N,M))\n",
    "P_posterior = np.zeros((M,N))\n",
    "mu = X.mean(axis = 0)\n",
    "w = np.array([mu + np.random.rand(M)-0.5, mu + np.random.rand(M)-0.5])\n",
    "var = np.mean([np.linalg.norm(x - mu)**2 for x in X])\n",
    "sigma = np.array([var + np.random.rand()-0.5,var + np.random.rand()-0.5])\n",
    "\n",
    "distance = np.inf\n",
    "\n",
    "while distance > theta:\n",
    "    w_old = w.copy()\n",
    "    sigma_old = sigma.copy()\n",
    "    P_prior_old = P_prior.copy()\n",
    "    \n",
    "    for (alpha, q), _ in np.ndenumerate(P_likelihood):\n",
    "        P_likelihood[alpha, q] = multivariate_normal.pdf(X[alpha], w[q], sigma[q])\n",
    "\n",
    "    for (q, alpha), _ in np.ndenumerate(P_posterior):\n",
    "        P_posterior[q, alpha] = (P_likelihood[alpha, q] * P_prior[q]) / np.sum([P_likelihood[alpha, r] * P_prior[r] for r in range(M)])\n",
    "        \n",
    "    distance = 0\n",
    "    for q in range(M):\n",
    "        w[q] = np.sum([P_posterior[q, alpha] * X[alpha] for alpha in range(N)]) / np.sum(P_posterior[q])\n",
    "        distance = max(distance, np.linalg.norm(w[q] - w_old[q]))\n",
    "        \n",
    "        sigma[q] = 1/N * np.sum([np.linalg.norm(X[alpha] - w[q]) ** 2 * P_posterior[q, alpha] for alpha in range(N)]) / np.sum(P_posterior[q])\n",
    "        distance = max(distance, np.abs(sigma[q] - sigma_old[q]))\n",
    "        \n",
    "        P_prior[q] = P_posterior[q].mean()\n",
    "        distance = max(distance, np.abs(P_prior[q] - P_prior_old[q]))\n",
    "#     print(w, sigma, P_prior)\n",
    "    print(distance)\n",
    "    "
   ]
  },
  {
   "cell_type": "code",
   "execution_count": 120,
   "metadata": {
    "ExecuteTime": {
     "end_time": "2017-07-16T17:12:25.300922Z",
     "start_time": "2017-07-16T17:12:25.063483"
    }
   },
   "outputs": [
    {
     "data": {
      "text/plain": [
       "[<matplotlib.lines.Line2D at 0x112a18d90>]"
      ]
     },
     "execution_count": 120,
     "metadata": {},
     "output_type": "execute_result"
    },
    {
     "data": {
      "image/png": "[encoded data removed]",
      "text/plain": [
       "<matplotlib.figure.Figure at 0x1128a4e50>"
      ]
     },
     "metadata": {},
     "output_type": "display_data"
    }
   ],
   "source": [
    "plt.scatter(*X.T)\n",
    "plt.plot(w[0][0],w[0][1],'ro')\n",
    "plt.plot(w[1][0],w[1][1],'ro')\n",
    "plt.gca().add_artist(plt.Circle(w[0], sigma[0]))\n",
    "plt.gca().add_artist(plt.Circle(w[1], sigma[1]))\n",
    "plt.plot(w1[0],w1[1],'go')\n",
    "plt.plot(w2[0],w2[1],'go')\n"
   ]
  },
  {
   "cell_type": "code",
   "execution_count": 132,
   "metadata": {
    "ExecuteTime": {
     "end_time": "2017-07-16T17:23:31.550359Z",
     "start_time": "2017-07-16T17:23:31.531718"
    }
   },
   "outputs": [],
   "source": [
    "from sklearn.cluster import KMeans\n",
    "km = KMeans(2)\n",
    "km.fit(X)\n",
    "centers = km.cluster_centers_\n",
    "preds = km.predict(X)"
   ]
  },
  {
   "cell_type": "code",
   "execution_count": 134,
   "metadata": {
    "ExecuteTime": {
     "end_time": "2017-07-16T17:26:14.408538Z",
     "start_time": "2017-07-16T17:26:14.402274"
    }
   },
   "outputs": [
    {
     "data": {
      "text/plain": [
       "array([0, 1, 1, 1, 0, 1, 1, 1, 0, 1, 0, 0, 1, 1, 0, 1, 0, 0, 0, 0, 0, 1, 0,\n",
       "       0, 0, 1, 1, 0, 1, 1, 0, 1, 1, 1, 0, 0, 0, 1, 0, 0, 0, 1, 0, 1, 0, 0,\n",
       "       1, 0, 1, 0, 0, 0, 1, 1, 0, 0, 1, 1, 0, 0, 1, 0, 1, 0, 1, 1, 1, 0, 0,\n",
       "       1, 1, 1, 0, 1, 1, 1, 0, 0, 0, 0, 0, 1, 0, 1, 0, 0, 0, 0, 1, 0, 1, 0,\n",
       "       0, 0, 0, 0, 0, 1, 0, 1], dtype=int32)"
      ]
     },
     "execution_count": 134,
     "metadata": {},
     "output_type": "execute_result"
    }
   ],
   "source": [
    "preds"
   ]
  },
  {
   "cell_type": "code",
   "execution_count": 148,
   "metadata": {
    "ExecuteTime": {
     "end_time": "2017-07-16T17:29:56.628241Z",
     "start_time": "2017-07-16T17:29:56.277088"
    }
   },
   "outputs": [
    {
     "data": {
      "text/plain": [
       "<matplotlib.text.Text at 0x11d0f0310>"
      ]
     },
     "execution_count": 148,
     "metadata": {},
     "output_type": "execute_result"
    },
    {
     "data": {
      "image/png": "[encoded data removed]",
      "text/plain": [
       "<matplotlib.figure.Figure at 0x11d079b50>"
      ]
     },
     "metadata": {},
     "output_type": "display_data"
    }
   ],
   "source": [
    "plt.figure(figsize = (15,10))\n",
    "plt.scatter(*X.T, c = ['r' if p==1 else 'b' for p in preds])\n",
    "plt.plot(centers[0][0],centers[0][1],'m*', markersize = 20)\n",
    "plt.plot(centers[1][0],centers[1][1],'m*', markersize = 20)\n",
    "plt.plot(w1[0],w1[1],'g*', markersize = 20)\n",
    "plt.plot(w2[0],w2[1],'g*', markersize = 20)\n",
    "plt.title('KMeans centers(red) and original centers (green)')"
   ]
  },
  {
   "cell_type": "code",
   "execution_count": null,
   "metadata": {
    "collapsed": true
   },
   "outputs": [],
   "source": []
  }
 ],
 "metadata": {
  "anaconda-cloud": {},
  "kernelspec": {
   "display_name": "Python [default]",
   "language": "python",
   "name": "python2"
  },
  "language_info": {
   "codemirror_mode": {
    "name": "ipython",
    "version": 2
   },
   "file_extension": ".py",
   "mimetype": "text/x-python",
   "name": "python",
   "nbconvert_exporter": "python",
   "pygments_lexer": "ipython2",
   "version": "2.7.12"
  },
  "toc": {
   "colors": {
    "hover_highlight": "#DAA520",
    "running_highlight": "#FF0000",
    "selected_highlight": "#FFD700"
   },
   "moveMenuLeft": true,
   "nav_menu": {
    "height": "84px",
    "width": "252px"
   },
   "navigate_menu": true,
   "number_sections": false,
   "sideBar": true,
   "threshold": 4,
   "toc_cell": false,
   "toc_section_display": "block",
   "toc_window_display": false,
   "widenNotebook": false
  }
 },
 "nbformat": 4,
 "nbformat_minor": 1
}
