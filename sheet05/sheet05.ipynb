{
 "cells": [
  {
   "cell_type": "markdown",
   "metadata": {
    "collapsed": true
   },
   "source": [
    "# Machine Intelligence II (week 4) - Team MensaNord"
   ]
  },
  {
   "cell_type": "markdown",
   "metadata": {},
   "source": [
    "- Nikolai Zaki\n",
    "- Alexander Moore\n",
    "- Johannes Rieke\n",
    "- Georg Hoelger\n",
    "- Oliver Atanaszov"
   ]
  },
  {
   "cell_type": "markdown",
   "metadata": {},
   "source": [
    "## Exercise 1\n",
    "### A"
   ]
  },
  {
   "cell_type": "code",
   "execution_count": 116,
   "metadata": {},
   "outputs": [],
   "source": [
    "from __future__ import division, print_function\n",
    "import numpy as np\n",
    "import pandas as pd\n",
    "import matplotlib.pyplot as plt\n",
    "%matplotlib inline\n",
    "import scipy.io.wavfile"
   ]
  },
  {
   "cell_type": "code",
   "execution_count": 118,
   "metadata": {},
   "outputs": [
    {
     "data": {
      "text/plain": [
       "array([[  0,   0,   0,  -6,   2],\n       [  0,  -1, -30, -19,   5]], dtype=int16)"
      ]
     },
     "execution_count": 117,
     "metadata": {},
     "output_type": "execute_result"
    }
   ],
   "source": [
    "sig = np.loadtxt(\"sound1.dat\")\n",
    "sound1 = np.asarray((2**16)*sig/(max(sig)-min(sig)), np.int16)\n",
    "scipy.io.wavfile.write(\"sound1_orig.wav\", 8192, sound1)\n",
    "\n",
    "sig = np.loadtxt(\"sound2.dat\")\n",
    "sound2 = np.asarray((2**16)*sig/(max(sig)-min(sig)), np.int16)\n",
    "scipy.io.wavfile.write(\"sound2_orig.wav\", 8192, sound2)\n",
    "\n",
    "sounds = np.array([sound1, sound2])\n",
    "sounds[:, 0:5]"
   ]
  },
  {
   "cell_type": "markdown",
   "metadata": {},
   "source": [
    "### B"
   ]
  },
  {
   "cell_type": "code",
   "execution_count": 119,
   "metadata": {},
   "outputs": [
    {
     "name": "stdout",
     "output_type": "stream",
     "text": [
      "[[  0  -1 -30 -19   5]\n [  0   0   0 -12   4]]\n[[  0.   0.   0.  -6.   2.]\n [  0.  -1. -30. -19.   5.]]\n"
     ]
    }
   ],
   "source": [
    "# DELETE LATER\n",
    "A = [[0, 1], [2, 0]]\n",
    "test = np.dot(A, sounds[:, 0:5])\n",
    "print(test)\n",
    "test = np.dot(np.linalg.inv(A), test[:, 0:5])\n",
    "print(test)"
   ]
  },
  {
   "cell_type": "code",
   "execution_count": 120,
   "metadata": {},
   "outputs": [
    {
     "name": "stdout",
     "output_type": "stream",
     "text": [
      "[[ 0.72495745  0.88851026]\n [ 0.99976505  0.64594358]]\n[[  0.          -0.88851026 -26.65530779]\n [  0.          -0.64594358 -19.37830742]]\n"
     ]
    }
   ],
   "source": [
    "A = np.random.random((2, 2))\n",
    "print(A)\n",
    "A_inv = np.linalg.inv(A)\n",
    "xsounds = np.dot(A, sounds)\n",
    "print(xsounds[:, 0:3])\n",
    "\n",
    "# xsounds = mixed sounds\n",
    "scipy.io.wavfile.write(\"sound1_mixed.wav\", 8192, xsounds[0])\n",
    "scipy.io.wavfile.write(\"sound2_mixed.wav\", 8192, xsounds[1])"
   ]
  },
  {
   "cell_type": "markdown",
   "metadata": {},
   "source": [
    "### C"
   ]
  },
  {
   "cell_type": "code",
   "execution_count": 121,
   "metadata": {},
   "outputs": [
    {
     "name": "stdout",
     "output_type": "stream",
     "text": [
      "[[  7324.14449231   2450.66571863  13530.96465973]\n [  5288.22547143   1745.22493197  13263.26153429]]\n"
     ]
    }
   ],
   "source": [
    "neworder = np.random.permutation(np.arange(18000)) \n",
    "pxsounds = xsounds[:, np.asarray(neworder)]\n",
    "print(pxsounds[:, 0:3])\n",
    "\n",
    "# pxsounds = permutated mixed sounds\n",
    "scipy.io.wavfile.write(\"sound1_mixed_perm.wav\", 8192, pxsounds[0])\n",
    "scipy.io.wavfile.write(\"sound2_mixed_perm.wav\", 8192, pxsounds[1])"
   ]
  },
  {
   "cell_type": "markdown",
   "metadata": {},
   "source": [
    "### D"
   ]
  },
  {
   "cell_type": "code",
   "execution_count": 122,
   "metadata": {},
   "outputs": [
    {
     "data": {
      "text/plain": [
       "<matplotlib.colorbar.Colorbar at 0x7fe85d0057f0>"
      ]
     },
     "execution_count": 121,
     "metadata": {},
     "output_type": "execute_result"
    },
    {
     "data": {
      "image/png": "[encoded data removed]",
      "text/plain": [
       "<matplotlib.figure.Figure at 0x7fe85d55aac8>"
      ]
     },
     "metadata": {},
     "output_type": "display_data"
    }
   ],
   "source": [
    "# doublecheck: formula\n",
    "correlation = np.cov(sounds, pxsounds) / np.std(sounds, ddof=len(sounds)-1) / np.std(pxsounds, ddof=len(pxsounds)-1)\n",
    "plt.imshow(correlation, interpolation='none')\n",
    "plt.colorbar()"
   ]
  },
  {
   "cell_type": "markdown",
   "metadata": {},
   "source": [
    "### E"
   ]
  },
  {
   "cell_type": "code",
   "execution_count": 123,
   "metadata": {},
   "outputs": [
    {
     "data": {
      "text/plain": [
       "array([[-71.34658148, -72.23509174, -98.00188927],\n       [-71.34658148, -71.99252506, -90.7248889 ]])"
      ]
     },
     "execution_count": 122,
     "metadata": {},
     "output_type": "execute_result"
    }
   ],
   "source": [
    "# doublecheck: 1st centered each sound; 2nd centered overall -> which one?\n",
    "\n",
    "# cpxsounds = centered permutated mixed sounds\n",
    "cpxsounds = (pxsounds.T - np.mean(pxsounds, 1)).T           \n",
    "\n",
    "# cxsounds = centered mixed sounds\n",
    "cxsounds = xsounds - np.mean(xsounds)\n",
    "cxsounds[:, 0:3]"
   ]
  },
  {
   "cell_type": "markdown",
   "metadata": {},
   "source": [
    "## Exercise 2\n",
    "### A"
   ]
  },
  {
   "cell_type": "code",
   "execution_count": 124,
   "metadata": {},
   "outputs": [
    {
     "name": "stdout",
     "output_type": "stream",
     "text": [
      "Goal:\n[[-1.53788806  2.11540042]\n [ 2.38028023 -1.72600741]]\nW start\n[[ 0.12600129  0.7112852 ]\n [ 0.92161862  0.25999312]]\nW end\n[[ 2.98463103  4.43564085]\n [ 3.80079001  3.96684223]]\n"
     ]
    },
    {
     "name": "stderr",
     "output_type": "stream",
     "text": [
      "/home/georg/anaconda3/lib/python3.6/site-packages/ipykernel/__main__.py:5: RuntimeWarning: overflow encountered in exp\n"
     ]
    }
   ],
   "source": [
    "#doublecheck: take datapoint x = cpx or cx?\n",
    "\n",
    "# slideset 22_ page 20\n",
    "def fdashfrac(inp):\n",
    "    return 1-2*(1/(1+np.exp(inp)))\n",
    "\n",
    "W = np.random.random((2, 2))\n",
    "print(\"Goal:\")\n",
    "print(A_inv)\n",
    "print(\"W start\")\n",
    "print(W)\n",
    "\n",
    "# algorithm skript page 32 (online learning ICA)\n",
    "t = 1\n",
    "eps0 = 0.0002\n",
    "for n in range(1000):\n",
    "    eps = eps0 / t\n",
    "    x = cxsounds.T[n]\n",
    "    W_inv = np.linalg.inv(W)\n",
    "    dW = np.zeros_like(W)\n",
    "    for (i, j), value in np.ndenumerate(W):\n",
    "        argument = W[i, 0] * x[0] + W[i, 1]*x[1]\n",
    "        dW[i, j] = W_inv[j, i] + fdashfrac(argument) * x[j]     # formula script 2.87\n",
    "    W += eps * dW\n",
    "    t += 1\n",
    "\n",
    "print(\"W end\")\n",
    "print(W)"
   ]
  },
  {
   "cell_type": "markdown",
   "metadata": {},
   "source": [
    "### B"
   ]
  },
  {
   "cell_type": "code",
   "execution_count": 125,
   "metadata": {},
   "outputs": [
    {
     "name": "stdout",
     "output_type": "stream",
     "text": [
      "Goal:\n[[-1.53788806  2.11540042]\n [ 2.38028023 -1.72600741]]\nW start\n[[ 0.48314496  0.81314785]\n [ 0.6816654   0.90634281]]\n"
     ]
    },
    {
     "name": "stderr",
     "output_type": "stream",
     "text": [
      "/home/georg/anaconda3/lib/python3.6/site-packages/ipykernel/__main__.py:5: RuntimeWarning: overflow encountered in exp\n"
     ]
    },
    {
     "name": "stdout",
     "output_type": "stream",
     "text": [
      "W end\n[[ 0.5672193   0.92493315]\n [ 0.76574497  1.01813507]]\n"
     ]
    }
   ],
   "source": [
    "W = np.random.random((2, 2))\n",
    "print(\"Goal:\")\n",
    "print(A_inv)\n",
    "print(\"W start\")\n",
    "print(W)\n",
    "\n",
    "# skript formula 2.100\n",
    "t = 1\n",
    "eps0 = 0.000002\n",
    "for n in range(18000):\n",
    "    eps = eps0 / t\n",
    "    x = cxsounds.T[n]\n",
    "    dW = np.zeros_like(W)\n",
    "    for (i, j), value in np.ndenumerate(W):\n",
    "        for l in range(2):\n",
    "            delta_i_l = 0                       # TODO: false\n",
    "            argument_i_k = W[i, 0] * x[0] + W[i, 1]*x[1]\n",
    "            argument_l_k = W[l, 0] * x[0] + W[l, 1]*x[1]\n",
    "            dW[i, j] = W[l, j] * (delta_i_l + fdashfrac(argument_i_k) * argument_l_k)\n",
    "    W += eps * dW\n",
    "    t += 1\n",
    "\n",
    "print(\"W end\")\n",
    "print(W)"
   ]
  },
  {
   "cell_type": "code",
   "execution_count": 125,
   "metadata": {},
   "outputs": [],
   "source": [
    ""
   ]
  },
  {
   "cell_type": "code",
   "execution_count": 125,
   "metadata": {},
   "outputs": [],
   "source": [
    ""
   ]
  },
  {
   "cell_type": "code",
   "execution_count": null,
   "metadata": {},
   "outputs": [],
   "source": [
    ""
   ]
  }
 ],
 "metadata": {
  "kernelspec": {
   "display_name": "Python 2",
   "language": "python",
   "name": "python2"
  },
  "language_info": {
   "codemirror_mode": {
    "name": "ipython",
    "version": 2.0
   },
   "file_extension": ".py",
   "mimetype": "text/x-python",
   "name": "python",
   "nbconvert_exporter": "python",
   "pygments_lexer": "ipython2",
   "version": "2.7.6"
  }
 },
 "nbformat": 4,
 "nbformat_minor": 0
}