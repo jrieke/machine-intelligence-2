{
 "cells": [
  {
   "cell_type": "markdown",
   "metadata": {
    "collapsed": true
   },
   "source": [
    "# Machine Intelligence II (week 5) - Team MensaNord"
   ]
  },
  {
   "cell_type": "markdown",
   "metadata": {},
   "source": [
    "- Nikolai Zaki\n",
    "- Alexander Moore\n",
    "- Johannes Rieke\n",
    "- Georg Hoelger\n",
    "- Oliver Atanaszov"
   ]
  },
  {
   "cell_type": "markdown",
   "metadata": {},
   "source": [
    "## Exercise 1\n",
    "### A"
   ]
  },
  {
   "cell_type": "code",
   "execution_count": 1,
   "metadata": {
    "ExecuteTime": {
     "end_time": "2017-06-06T14:10:28.474484Z",
     "start_time": "2017-06-06T14:10:27.799114Z"
    },
    "collapsed": true
   },
   "outputs": [],
   "source": [
    "from __future__ import division, print_function\n",
    "import numpy as np\n",
    "import pandas as pd\n",
    "import matplotlib.pyplot as plt\n",
    "%matplotlib inline\n",
    "import scipy.io.wavfile"
   ]
  },
  {
   "cell_type": "code",
   "execution_count": 2,
   "metadata": {
    "ExecuteTime": {
     "end_time": "2017-06-06T14:13:34.354563Z",
     "start_time": "2017-06-06T14:13:34.138364Z"
    },
    "collapsed": false
   },
   "outputs": [
    {
     "data": {
      "text/plain": [
       "array([[  0,   0,   0,  -6,   2],\n",
       "       [  0,  -1, -30, -19,   5]], dtype=int16)"
      ]
     },
     "execution_count": 2,
     "metadata": {},
     "output_type": "execute_result"
    }
   ],
   "source": [
    "sig = np.loadtxt(\"sound1.dat\")\n",
    "sound1 = np.asarray((2**16)*sig/(max(sig)-min(sig)), np.int16)\n",
    "scipy.io.wavfile.write(\"sound1_orig.wav\", 8192, sound1)\n",
    "\n",
    "sig = np.loadtxt(\"sound2.dat\")\n",
    "sound2 = np.asarray((2**16)*sig/(max(sig)-min(sig)), np.int16)\n",
    "scipy.io.wavfile.write(\"sound2_orig.wav\", 8192, sound2)\n",
    "\n",
    "sounds = np.array([sound1, sound2])\n",
    "sounds[:, 0:5]"
   ]
  },
  {
   "cell_type": "markdown",
   "metadata": {},
   "source": [
    "### B"
   ]
  },
  {
   "cell_type": "code",
   "execution_count": 5,
   "metadata": {
    "ExecuteTime": {
     "end_time": "2017-06-06T14:18:23.288800Z",
     "start_time": "2017-06-06T14:18:23.261751Z"
    },
    "collapsed": false
   },
   "outputs": [
    {
     "name": "stdout",
     "output_type": "stream",
     "text": [
      "[[ 0.01462281  0.9267317 ]\n",
      " [ 0.54071393  0.48144801]]\n",
      "[[  0.          -0.9267317  -27.8019509 ]\n",
      " [  0.          -0.48144801 -14.4434403 ]]\n"
     ]
    }
   ],
   "source": [
    "A = np.random.random((2, 2))\n",
    "# print(A)\n",
    "A_inv = np.linalg.inv(A)\n",
    "xsounds = np.dot(A, sounds)\n",
    "# print(xsounds[:, 0:3])\n",
    "\n",
    "# xsounds = mixed sounds\n",
    "scipy.io.wavfile.write(\"sound1_mixed.wav\", 8192, xsounds[0])\n",
    "scipy.io.wavfile.write(\"sound2_mixed.wav\", 8192, xsounds[1])"
   ]
  },
  {
   "cell_type": "markdown",
   "metadata": {},
   "source": [
    "### C"
   ]
  },
  {
   "cell_type": "code",
   "execution_count": 6,
   "metadata": {
    "ExecuteTime": {
     "end_time": "2017-06-06T14:18:24.640398Z",
     "start_time": "2017-06-06T14:18:24.617164Z"
    },
    "collapsed": false
   },
   "outputs": [
    {
     "name": "stdout",
     "output_type": "stream",
     "text": [
      "[[-19609.88588583 -20550.45634417  28019.12064425]\n",
      " [ -9959.92518376 -10649.01466291  14162.28892245]]\n"
     ]
    }
   ],
   "source": [
    "neworder = np.random.permutation(np.arange(18000)) \n",
    "pxsounds = xsounds[:, np.asarray(neworder)]\n",
    "print(pxsounds[:, 0:3])\n",
    "\n",
    "# pxsounds = permutated mixed sounds\n",
    "scipy.io.wavfile.write(\"sound1_mixed_perm.wav\", 8192, pxsounds[0])\n",
    "scipy.io.wavfile.write(\"sound2_mixed_perm.wav\", 8192, pxsounds[1])"
   ]
  },
  {
   "cell_type": "markdown",
   "metadata": {},
   "source": [
    "### D"
   ]
  },
  {
   "cell_type": "code",
   "execution_count": 7,
   "metadata": {
    "ExecuteTime": {
     "end_time": "2017-06-06T14:18:27.198390Z",
     "start_time": "2017-06-06T14:18:26.921431Z"
    },
    "collapsed": false
   },
   "outputs": [
    {
     "data": {
      "text/plain": [
       "<matplotlib.colorbar.Colorbar at 0x7f23ec555748>"
      ]
     },
     "execution_count": 7,
     "metadata": {},
     "output_type": "execute_result"
    },
    {
     "data": {
      "image/png": "[encoded data removed]",
      "text/plain": [
       "<matplotlib.figure.Figure at 0x7f23f05cfcf8>"
      ]
     },
     "metadata": {},
     "output_type": "display_data"
    }
   ],
   "source": [
    "# doublecheck: formula\n",
    "correlation = np.cov(sounds, pxsounds) / np.std(sounds, ddof=len(sounds)-1) / np.std(pxsounds, ddof=len(pxsounds)-1)\n",
    "plt.imshow(correlation, interpolation='none')\n",
    "plt.colorbar()"
   ]
  },
  {
   "cell_type": "markdown",
   "metadata": {},
   "source": [
    "### E"
   ]
  },
  {
   "cell_type": "code",
   "execution_count": 126,
   "metadata": {
    "ExecuteTime": {
     "end_time": "2017-06-06T16:32:18.175245Z",
     "start_time": "2017-06-06T16:32:18.164765Z"
    },
    "collapsed": false
   },
   "outputs": [],
   "source": [
    "# doublecheck: 1st centered each sound; 2nd centered overall -> which one?\n",
    "\n",
    "# cpxsounds = centered permutated mixed sounds\n",
    "cpxsounds = (pxsounds.T - np.mean(pxsounds, 1)).T           \n",
    "\n",
    "# cxsounds = centered mixed sounds\n",
    "cxsounds = xsounds - np.mean(xsounds,1)[:,np.newaxis]\n",
    "# cxsounds[:, 0:3]"
   ]
  },
  {
   "cell_type": "markdown",
   "metadata": {},
   "source": [
    "## Exercise 2\n",
    "### A"
   ]
  },
  {
   "cell_type": "code",
   "execution_count": 127,
   "metadata": {
    "ExecuteTime": {
     "end_time": "2017-06-06T16:32:21.444206Z",
     "start_time": "2017-06-06T16:32:21.361899Z"
    },
    "collapsed": false
   },
   "outputs": [
    {
     "name": "stdout",
     "output_type": "stream",
     "text": [
      "W end\n",
      "[[ 0.2606302   0.11025224]\n",
      " [-0.00157864  0.00264092]]\n"
     ]
    },
    {
     "name": "stderr",
     "output_type": "stream",
     "text": [
      "/home/dpenguin/anaconda3/lib/python3.6/site-packages/ipykernel/__main__.py:5: RuntimeWarning: overflow encountered in exp\n"
     ]
    }
   ],
   "source": [
    "#doublecheck: take datapoint x = cpx or cx?\n",
    "\n",
    "# slideset 22_ page 20\n",
    "\n",
    "\n",
    "# algorithm skript page 32 (online learning ICA)\n",
    "t = 1\n",
    "eps0 = 0.0002\n",
    "for n in range(1000):\n",
    "    eps = eps0 / t\n",
    "    x = cxsounds.T[n]\n",
    "    W_inv = np.linalg.inv(W)\n",
    "    dW = np.zeros_like(W)\n",
    "    for (i, j), value in np.ndenumerate(W):\n",
    "        argument = W[i, 0] * x[0] + W[i, 1]*x[1]\n",
    "        dW[i, j] = W_inv[j, i] + fdashfrac(argument) * x[j]     # formula script 2.87\n",
    "    W += eps * dW\n",
    "    t += 1\n",
    "\n",
    "print(\"W end\")\n",
    "print(W)"
   ]
  },
  {
   "cell_type": "code",
   "execution_count": 144,
   "metadata": {
    "ExecuteTime": {
     "end_time": "2017-06-06T16:44:34.444584Z",
     "start_time": "2017-06-06T16:44:33.829143Z"
    },
    "collapsed": false
   },
   "outputs": [
    {
     "name": "stdout",
     "output_type": "stream",
     "text": [
      "Goal:\n",
      "[[-0.97447944  1.87576013]\n",
      " [ 1.09443718 -0.02959744]]\n",
      "W start\n",
      "[[ 0.71226077  0.21365559]\n",
      " [ 0.16278197  0.61860298]]\n"
     ]
    },
    {
     "name": "stderr",
     "output_type": "stream",
     "text": [
      "/home/dpenguin/anaconda3/lib/python3.6/site-packages/ipykernel/__main__.py:2: RuntimeWarning: overflow encountered in exp\n",
      "  from ipykernel import kernelapp as app\n"
     ]
    },
    {
     "name": "stdout",
     "output_type": "stream",
     "text": [
      "W end\n",
      "[[ 0.28784309 -0.5363323 ]\n",
      " [-0.51911152 -0.05104578]]\n"
     ]
    }
   ],
   "source": [
    "def ddf_by_df(inp):\n",
    "    return 1-2.0/(1+np.exp(-inp))\n",
    "\n",
    "W = np.random.random((2, 2))\n",
    "print(\"Goal:\")\n",
    "print(A_inv)\n",
    "print(\"W start\")\n",
    "print(W)\n",
    "\n",
    "eta_0 = .01\n",
    "for t in range(len(xsounds[0])):\n",
    "    eta = eta_0/(t+1)\n",
    "    W_inv = np.linalg.inv(W)\n",
    "    x = cxsounds[:,t]\n",
    "    gradient = W_inv.T + np.dot(ddf_by_df(np.dot(W,x)),x[:,np.newaxis])\n",
    "    W += eta*gradient\n",
    "print(\"W end\")\n",
    "print(W)"
   ]
  },
  {
   "cell_type": "markdown",
   "metadata": {},
   "source": [
    "### B"
   ]
  },
  {
   "cell_type": "code",
   "execution_count": 148,
   "metadata": {
    "ExecuteTime": {
     "end_time": "2017-06-06T16:51:16.989520Z",
     "start_time": "2017-06-06T16:51:16.539169Z"
    },
    "collapsed": false
   },
   "outputs": [
    {
     "name": "stdout",
     "output_type": "stream",
     "text": [
      "Goal:\n",
      "[[-0.97447944  1.87576013]\n",
      " [ 1.09443718 -0.02959744]]\n",
      "W start\n",
      "[[ 0.74090143  0.97164871]\n",
      " [ 0.49588427  0.16319407]]\n"
     ]
    },
    {
     "name": "stderr",
     "output_type": "stream",
     "text": [
      "/home/dpenguin/anaconda3/lib/python3.6/site-packages/ipykernel/__main__.py:2: RuntimeWarning: overflow encountered in exp\n",
      "  from ipykernel import kernelapp as app\n"
     ]
    },
    {
     "name": "stdout",
     "output_type": "stream",
     "text": [
      "W end\n",
      "[[ 0.12378616  0.40844283]\n",
      " [-0.12378616 -0.40844283]]\n"
     ]
    }
   ],
   "source": [
    "W = np.random.random((2, 2))\n",
    "print(\"Goal:\")\n",
    "print(A_inv)\n",
    "print(\"W start\")\n",
    "print(W)\n",
    "eta_0 = .001\n",
    "\n",
    "for t in range(18000):\n",
    "    x = cxsounds[:,t]\n",
    "    gradient = np.dot(np.eye(2) + np.dot(ddf_by_df(np.dot(W,x)),np.dot(W,x)[:,np.newaxis]),W)\n",
    "    eta = eta_0/(t+1)\n",
    "    W += eta*gradient\n",
    "#     if t%2000 == 0:\n",
    "#         print(t)\n",
    "#         print(W)\n",
    "print(\"W end\")\n",
    "print(W)"
   ]
  },
  {
   "cell_type": "code",
   "execution_count": 117,
   "metadata": {
    "ExecuteTime": {
     "end_time": "2017-06-06T16:29:38.742521Z",
     "start_time": "2017-06-06T16:29:37.619756Z"
    },
    "collapsed": false
   },
   "outputs": [
    {
     "name": "stdout",
     "output_type": "stream",
     "text": [
      "Goal:\n",
      "[[-0.97447944  1.87576013]\n",
      " [ 1.09443718 -0.02959744]]\n",
      "W start\n",
      "[[ 0.39345598  0.20262807]\n",
      " [ 0.28733154  0.72635252]]\n",
      "W end\n",
      "[[ 0.36249195  0.12435332]\n",
      " [ 0.25530779  0.6453989 ]]\n"
     ]
    },
    {
     "name": "stderr",
     "output_type": "stream",
     "text": [
      "/home/dpenguin/anaconda3/lib/python3.6/site-packages/ipykernel/__main__.py:5: RuntimeWarning: overflow encountered in exp\n"
     ]
    }
   ],
   "source": [
    "W = np.random.random((2, 2))\n",
    "print(\"Goal:\")\n",
    "print(A_inv)\n",
    "print(\"W start\")\n",
    "print(W)\n",
    "\n",
    "# skript formula 2.100\n",
    "t = 1\n",
    "eps0 = 0.000002\n",
    "for n in range(18000):\n",
    "    eps = eps0 / t\n",
    "    x = cpxsounds.T[n]\n",
    "    dW = np.zeros_like(W)\n",
    "    for (i, j), value in np.ndenumerate(W):\n",
    "        for l in range(2):\n",
    "            delta_i_l = 0                       # TODO: false\n",
    "            argument_i_k = W[i, 0] * x[0] + W[i, 1]*x[1]\n",
    "            argument_l_k = W[l, 0] * x[0] + W[l, 1]*x[1]\n",
    "            dW[i, j] = W[l, j] * (delta_i_l + fdashfrac(argument_i_k) * argument_l_k)\n",
    "    W += eps * dW\n",
    "    t += 1\n",
    "\n",
    "print(\"W end\")\n",
    "print(W)"
   ]
  },
  {
   "cell_type": "code",
   "execution_count": 125,
   "metadata": {
    "collapsed": true
   },
   "outputs": [],
   "source": [
    ""
   ]
  },
  {
   "cell_type": "code",
   "execution_count": 125,
   "metadata": {
    "collapsed": true
   },
   "outputs": [],
   "source": [
    ""
   ]
  },
  {
   "cell_type": "code",
   "execution_count": null,
   "metadata": {
    "collapsed": true
   },
   "outputs": [],
   "source": [
    ""
   ]
  }
 ],
 "metadata": {
  "kernelspec": {
   "display_name": "Python 3",
   "language": "python",
   "name": "python3"
  },
  "language_info": {
   "codemirror_mode": {
    "name": "ipython",
    "version": 3.0
   },
   "file_extension": ".py",
   "mimetype": "text/x-python",
   "name": "python",
   "nbconvert_exporter": "python",
   "pygments_lexer": "ipython3",
   "version": "3.6.0"
  }
 },
 "nbformat": 4,
 "nbformat_minor": 0
}