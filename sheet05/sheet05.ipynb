{
 "cells": [
  {
   "cell_type": "markdown",
   "metadata": {
    "collapsed": true
   },
   "source": [
    "# Machine Intelligence II (week 4) - Team MensaNord"
   ]
  },
  {
   "cell_type": "markdown",
   "metadata": {},
   "source": [
    "- Nikolai Zaki\n",
    "- Alexander Moore\n",
    "- Johannes Rieke\n",
    "- Georg Hoelger\n",
    "- Oliver Atanaszov"
   ]
  },
  {
   "cell_type": "markdown",
   "metadata": {},
   "source": [
    "## Exercise 1\n",
    "### A"
   ]
  },
  {
   "cell_type": "code",
   "execution_count": 80,
   "metadata": {},
   "outputs": [],
   "source": [
    "from __future__ import division, print_function\n",
    "import numpy as np\n",
    "import pandas as pd\n",
    "import matplotlib.pyplot as plt\n",
    "%matplotlib inline\n",
    "import scipy.io.wavfile"
   ]
  },
  {
   "cell_type": "code",
   "execution_count": 81,
   "metadata": {},
   "outputs": [
    {
     "data": {
      "text/plain": [
       "array([[  0,   0,   0,  -6,   2],\n       [  0,  -1, -30, -19,   5]], dtype=int16)"
      ]
     },
     "execution_count": 80,
     "metadata": {},
     "output_type": "execute_result"
    }
   ],
   "source": [
    "sig = np.loadtxt(\"sound1.dat\")\n",
    "sound1 = np.asarray((2**16)*sig/(max(sig)-min(sig)), np.int16)\n",
    "scipy.io.wavfile.write(\"sound1.wav\", 8192, sound1)\n",
    "\n",
    "sig = np.loadtxt(\"sound2.dat\")\n",
    "sound2 = np.asarray((2**16)*sig/(max(sig)-min(sig)), np.int16)\n",
    "scipy.io.wavfile.write(\"sound1.wav\", 8192, sound2)\n",
    "\n",
    "sounds = np.array([sound1, sound2])\n",
    "sounds[:, 0:5]"
   ]
  },
  {
   "cell_type": "markdown",
   "metadata": {},
   "source": [
    "### B"
   ]
  },
  {
   "cell_type": "code",
   "execution_count": 82,
   "metadata": {},
   "outputs": [
    {
     "data": {
      "text/plain": [
       "array([[  0,  -1, -30, -19,   5],\n       [  0,   0,   0, -12,   4]])"
      ]
     },
     "execution_count": 81,
     "metadata": {},
     "output_type": "execute_result"
    }
   ],
   "source": [
    "# DELETE LATER\n",
    "A = [[0, 1], [2, 0]]\n",
    "test = np.dot(A, sounds[:, 0:5])\n",
    "test"
   ]
  },
  {
   "cell_type": "code",
   "execution_count": 83,
   "metadata": {},
   "outputs": [
    {
     "data": {
      "text/plain": [
       "array([[  0.        ,  -0.12738607,  -3.82158214],\n       [  0.        ,  -0.91982325, -27.59469762]])"
      ]
     },
     "execution_count": 82,
     "metadata": {},
     "output_type": "execute_result"
    }
   ],
   "source": [
    "# xsounds = mixed sounds\n",
    "A = np.random.random((2, 2))\n",
    "inverse = np.linalg.inv(A)\n",
    "xsounds = np.dot(A, sounds)\n",
    "xsounds[:, 0:3]"
   ]
  },
  {
   "cell_type": "markdown",
   "metadata": {},
   "source": [
    "### C"
   ]
  },
  {
   "cell_type": "code",
   "execution_count": 84,
   "metadata": {},
   "outputs": [
    {
     "data": {
      "text/plain": [
       "array([[  -33.21796253,   627.14366031,    32.66979759],\n       [ -269.99802074,  4604.68377386,  6481.24557054]])"
      ]
     },
     "execution_count": 83,
     "metadata": {},
     "output_type": "execute_result"
    }
   ],
   "source": [
    "# pxsounds = permutated mixed sounds\n",
    "neworder = np.random.permutation(np.arange(18000)) \n",
    "pxsounds = xsounds[:, np.asarray(neworder)]\n",
    "pxsounds[:, 0:3]"
   ]
  },
  {
   "cell_type": "markdown",
   "metadata": {},
   "source": [
    "### D"
   ]
  },
  {
   "cell_type": "code",
   "execution_count": 103,
   "metadata": {},
   "outputs": [
    {
     "data": {
      "text/plain": [
       "<matplotlib.colorbar.Colorbar at 0x7fb613f4e5c0>"
      ]
     },
     "execution_count": 103,
     "metadata": {},
     "output_type": "execute_result"
    },
    {
     "data": {
      "image/png": "[encoded data removed]",
      "text/plain": [
       "<matplotlib.figure.Figure at 0x7fb618028160>"
      ]
     },
     "metadata": {},
     "output_type": "display_data"
    }
   ],
   "source": [
    "# doublecheck: formula\n",
    "correlation = np.cov(sounds, pxsounds) / np.std(sounds, ddof=len(sounds)-1) / np.std(pxsounds, ddof=len(pxsounds)-1)\n",
    "plt.imshow(correlation, interpolation='none')\n",
    "plt.colorbar()"
   ]
  },
  {
   "cell_type": "markdown",
   "metadata": {},
   "source": [
    "### E"
   ]
  },
  {
   "cell_type": "code",
   "execution_count": 112,
   "metadata": {},
   "outputs": [
    {
     "data": {
      "text/plain": [
       "array([[  -43.15950243,   617.20212041,    22.72825768],\n       [ -351.0628549 ,  4523.6189397 ,  6400.18073638]])"
      ]
     },
     "execution_count": 112,
     "metadata": {},
     "output_type": "execute_result"
    }
   ],
   "source": [
    "# cpxsounds = centered permutated mixed sounds\n",
    "cpxsounds = (pxsounds.T - np.mean(pxsounds, 1)).T           \n",
    "# doublecheck: center each observation. else:\n",
    "# cpxsounds = pxsounds - np.mean(pxsounds)\n",
    "cpxsounds[:, 0:3]"
   ]
  },
  {
   "cell_type": "markdown",
   "metadata": {},
   "source": [
    "### F"
   ]
  },
  {
   "cell_type": "code",
   "execution_count": 114,
   "metadata": {},
   "outputs": [
    {
     "data": {
      "text/plain": [
       "array([[  6.17210709e-01,   1.84511906e-01],\n       [  1.49892556e-04,   9.22901951e-01]])"
      ]
     },
     "execution_count": 114,
     "metadata": {},
     "output_type": "execute_result"
    }
   ],
   "source": [
    "W = np.random.random((2, 2))\n",
    "W"
   ]
  },
  {
   "cell_type": "markdown",
   "metadata": {},
   "source": [
    "## Exercise 2\n",
    "### A"
   ]
  },
  {
   "cell_type": "code",
   "execution_count": null,
   "metadata": {},
   "outputs": [],
   "source": [
    ""
   ]
  }
 ],
 "metadata": {
  "kernelspec": {
   "display_name": "Python 2",
   "language": "python",
   "name": "python2"
  },
  "language_info": {
   "codemirror_mode": {
    "name": "ipython",
    "version": 2.0
   },
   "file_extension": ".py",
   "mimetype": "text/x-python",
   "name": "python",
   "nbconvert_exporter": "python",
   "pygments_lexer": "ipython2",
   "version": "2.7.6"
  }
 },
 "nbformat": 4,
 "nbformat_minor": 0
}